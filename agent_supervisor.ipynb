{
 "cells": [
  {
   "cell_type": "markdown",
   "id": "a3e3ebc4-57af-4fe4-bdd3-36aff67bf276",
   "metadata": {},
   "source": [
    "# Multi-agent supervisor\n",
    "\n",
    "- 題材\n",
    "  - Multi-agent supervisor(https://langchain-ai.github.io/langgraph/tutorials/multi_agent/agent_supervisor/)\n",
    "  - `Supervisor Agent`がユーザーからの質問を受け取り、Web検索を行う特化AgentとPythonコードを実行する特化Agentと連携してタスクを実行する。\n",
    "\n",
    "![multi-agent-supervisor-1](./img/multi-agent-supervisor-1.png)"
   ]
  },
  {
   "cell_type": "markdown",
   "id": "ab9cd1c8",
   "metadata": {},
   "source": [
    "## セットアップ"
   ]
  },
  {
   "cell_type": "code",
   "execution_count": 1,
   "id": "0d30b6f7-3bec-4d9f-af50-43dfdc81ae6c",
   "metadata": {},
   "outputs": [],
   "source": [
    "%%capture --no-stderr\n",
    "%pip install -U langgraph langchain_community langchain-openai langchain_experimental python-dotenv langsmith"
   ]
  },
  {
   "cell_type": "markdown",
   "id": "e863e473",
   "metadata": {},
   "source": [
    "## 環境変数"
   ]
  },
  {
   "cell_type": "code",
   "execution_count": 2,
   "id": "30c2f3de-c730-4aec-85a6-af2c2f058803",
   "metadata": {},
   "outputs": [],
   "source": [
    "import os\n",
    "\n",
    "os.environ[\"OPENAI_API_KEY\"] = os.getenv(\"OPENAI_API_KEY\")\n",
    "os.environ[\"TAVILY_API_KEY\"] = os.getenv(\"TAVILY_API_KEY\")\n",
    "os.environ[\"LANGSMITH_TRACING\"] = \"true\"\n",
    "os.environ[\"LANGSMITH_ENDPOINT\"] = \"https://api.smith.langchain.com\"\n",
    "os.environ[\"LANGSMITH_API_KEY\"] = os.getenv(\"LANGSMITH_API_KEY\")\n",
    "os.environ[\"LANGSMITH_PROJECT\"] = \"langchain-study\""
   ]
  },
  {
   "cell_type": "markdown",
   "id": "7d3d773a",
   "metadata": {},
   "source": [
    "## モデルの定義"
   ]
  },
  {
   "cell_type": "code",
   "execution_count": 3,
   "id": "7e3aabde",
   "metadata": {},
   "outputs": [],
   "source": [
    "from langchain_openai import ChatOpenAI\n",
    "\n",
    "llm = ChatOpenAI(model=\"gpt-4o-mini\", temperature=0)"
   ]
  },
  {
   "cell_type": "markdown",
   "id": "52f7cfa8",
   "metadata": {},
   "source": [
    "## ステートの定義\n",
    "`MessagesState`は`LangGraph`built-inのステータススキーマ。  \n",
    "普通に`TypedDict`や`Pydantic`の`BaseModel`を継承して`State`クラスを定義して使うでも良い。\n",
    "\n",
    "- `MessagesState`( https://langchain-ai.github.io/langgraph/concepts/low_level/#messagesstate )\n",
    "\n",
    "`langgraph/graph/message.py`\n",
    "```python\n",
    "class MessagesState(TypedDict):\n",
    "    messages: Annotated[list[AnyMessage], add_messages]\n",
    "```"
   ]
  },
  {
   "cell_type": "code",
   "execution_count": 4,
   "id": "e7ac02c2",
   "metadata": {},
   "outputs": [],
   "source": [
    "from langgraph.graph import MessagesState, END\n",
    "\n",
    "class State(MessagesState):  # MessagesStateを継承\n",
    "    next: str"
   ]
  },
  {
   "cell_type": "markdown",
   "id": "d32962d2-5487-496d-aefc-2a3b0d194985",
   "metadata": {},
   "source": [
    "## Supervisor Agent(Node)を作成\n",
    "次のWorker Nodeを選択するもしくは処理を終了するかを決定するNodeを作成する。\n",
    "\n",
    "- `Command`(https://langchain-ai.github.io/langgraph/concepts/low_level/#command)\n",
    "  - 状態を更新すると同時に、次に実行するNodeを指定する\n",
    "  - 各Nodeが`Command`オブジェクトとして以下を返す。\n",
    "    - 処理を渡す先のNode\n",
    "    - ステータスの更新差分\n",
    "\n",
    "- Command機能による動的なルーティング(https://zenn.dev/pharmax/articles/d91085d904657d)"
   ]
  },
  {
   "cell_type": "code",
   "execution_count": 5,
   "id": "df2bd80b-c477-4d74-8faa-1c0548622239",
   "metadata": {},
   "outputs": [],
   "source": [
    "from typing import Literal\n",
    "from typing_extensions import TypedDict\n",
    "from langgraph.graph import END\n",
    "from langgraph.types import Command\n",
    "\n",
    "\n",
    "members = [\"researcher\", \"coder\"]  # ワーカーの選択肢を登録\n",
    "options = members + [\"FINISH\"]  # ワーカーの選択肢に終了を追加\n",
    "\n",
    "system_prompt = (\n",
    "    \"You are a supervisor tasked with managing a conversation between the\"\n",
    "    f\" following workers: {members}. Given the following user request,\"\n",
    "    \" respond with the worker to act next. Each worker will perform a\"\n",
    "    \" task and respond with their results and status. When finished,\"\n",
    "    \" respond with FINISH.\"\n",
    ")\n",
    "\n",
    "\n",
    "class Router(TypedDict):\n",
    "    \"\"\"Worker to route to next. If no workers needed, route to FINISH.\"\"\"\n",
    "\n",
    "    next: Literal[*options]\n",
    "\n",
    "\n",
    "\n",
    "def supervisor_node(state: State) -> Command[Literal[*members, \"__end__\"]]:\n",
    "    messages = [\n",
    "        {\"role\": \"system\", \"content\": system_prompt},\n",
    "    ] + state[\"messages\"]  # system_promptに対してStateに含まれるmessagesの内容を追加\n",
    "    \n",
    "    response = llm.with_structured_output(Router).invoke(messages)  # スキーマをRouterに指定してLLMに次の行き先を決定させる\n",
    "    \n",
    "    goto = response[\"next\"]\n",
    "    if goto == \"FINISH\":\n",
    "        goto = END\n",
    "\n",
    "    return Command(goto=goto, update={\"next\": goto})"
   ]
  },
  {
   "cell_type": "markdown",
   "id": "1ac25624-4d83-45a4-b9ef-a10589aacfb7",
   "metadata": {},
   "source": [
    "## ツールの作成"
   ]
  },
  {
   "cell_type": "markdown",
   "id": "b4def5e7",
   "metadata": {},
   "source": [
    "### Web検索ツール(tavily_tool)\n",
    "`Tavily`でWeb検索を行うツールを作成する。\n",
    "\n",
    "`LangChain`では`BaseTool`を継承した`tools`のライブラリ(`langchain_community.tools`)が提供されており、ここではその中から`Tavily`でWeb検索を行う`TavilySearchResults`を使用する。\n",
    "\n",
    "- `langchain_community.tools`(https://python.langchain.com/api_reference/community/tools.html)\n",
    "- `BaseTool`(https://python.langchain.com/api_reference/core/tools/langchain_core.tools.base.BaseTool.html#langchain_core.tools.base.BaseTool)\n",
    "- `TavilySearchResults`(https://python.langchain.com/api_reference/community/tools/langchain_community.tools.tavily_search.tool.TavilySearchResults.html)"
   ]
  },
  {
   "cell_type": "code",
   "execution_count": 6,
   "id": "479c438b",
   "metadata": {},
   "outputs": [],
   "source": [
    "from langchain_community.tools.tavily_search import TavilySearchResults\n",
    "\n",
    "tavily_tool = TavilySearchResults(max_results=5)"
   ]
  },
  {
   "cell_type": "markdown",
   "id": "67fd9560",
   "metadata": {},
   "source": [
    "### Pythonコード実行ツール(python_repl_tool)\n",
    "Pythonコードを実行するツールを作成する。\n",
    "結果出力もこのツールで`print()`を実行して行う。"
   ]
  },
  {
   "cell_type": "code",
   "execution_count": 7,
   "id": "f04c6778-403b-4b49-9b93-678e910d5cec",
   "metadata": {},
   "outputs": [],
   "source": [
    "from typing import Annotated\n",
    "from langchain_core.tools import tool\n",
    "from langchain_experimental.utilities import PythonREPL\n",
    "\n",
    "\n",
    "# This executes code locally, which can be unsafe\n",
    "repl = PythonREPL()\n",
    "\n",
    "@tool\n",
    "def python_repl_tool(code: Annotated[str, \"The python code to execute to generate your chart.\"]):\n",
    "    \"\"\"Use this to execute python code and do math. If you want to see the output of a value,\n",
    "    you should print it out with `print(...)`. This is visible to the user.\"\"\"\n",
    "    try:\n",
    "        result = repl.run(code)\n",
    "    except BaseException as e:\n",
    "        return f\"Failed to execute. Error: {repr(e)}\"\n",
    "    result_str = f\"Successfully executed:\\n```python\\n{code}\\n```\\nStdout: {result}\"\n",
    "    return result_str"
   ]
  },
  {
   "cell_type": "markdown",
   "id": "a07d507f-34d1-4f1b-8dde-5e58d17b2166",
   "metadata": {},
   "source": [
    "## Worker Nodeの作成\n",
    "`Supervisor Agent`から呼び出されるWorker Nodeを作成する。"
   ]
  },
  {
   "cell_type": "code",
   "execution_count": 8,
   "id": "6a430af7-8fce-4e66-ba9e-d940c1bc48e8",
   "metadata": {},
   "outputs": [],
   "source": [
    "from langchain_core.messages import HumanMessage\n",
    "from langgraph.graph import StateGraph, START, END\n",
    "from langgraph.prebuilt import create_react_agent"
   ]
  },
  {
   "cell_type": "markdown",
   "id": "677acf4a",
   "metadata": {},
   "source": [
    "### research_node\n",
    "`create_react_agent()`を使ってWeb検索を行う`research_agent`(`ReAct Agent`)を作成し、それを使ってタスクを実行するNodeを`research_node()`という関数で定義する。"
   ]
  },
  {
   "cell_type": "code",
   "execution_count": 9,
   "id": "62334a03",
   "metadata": {},
   "outputs": [],
   "source": [
    "research_agent = create_react_agent(llm, tools=[tavily_tool], prompt=\"You are a researcher. DO NOT do any math.\")\n",
    "\n",
    "\n",
    "def research_node(state: State) -> Command[Literal[\"supervisor\"]]:\n",
    "    result = research_agent.invoke(state)\n",
    "    return Command(\n",
    "        update={\n",
    "            \"messages\": [\n",
    "                HumanMessage(content=result[\"messages\"][-1].content, name=\"researcher\")\n",
    "            ]\n",
    "        },\n",
    "        goto=\"supervisor\",\n",
    "    )"
   ]
  },
  {
   "cell_type": "markdown",
   "id": "87bdf698",
   "metadata": {},
   "source": [
    "### code_node\n",
    "`create_react_agent()`を使ってPythonコードの実行を担う`code_agent`(`ReAct Agent`)を作成し、それを使ってタスクを実行するNodeを`code_node()`という関数で定義する。  \n",
    "★`research_node`の結果を踏まえてLLMがmessageを生成するという操作も行う。"
   ]
  },
  {
   "cell_type": "code",
   "execution_count": 10,
   "id": "53376969",
   "metadata": {},
   "outputs": [],
   "source": [
    "# NOTE: THIS PERFORMS ARBITRARY CODE EXECUTION, WHICH CAN BE UNSAFE WHEN NOT SANDBOXED\n",
    "# code_agent = create_react_agent(llm, tools=[python_repl_tool]) # promptを追加しないとLLMがresearch_nodeの結果を踏まえて新たな文章を生成する。\n",
    "code_agent = create_react_agent(llm, tools=[python_repl_tool], prompt=\"You are a coder. DO NOT do any research.\") # promptを追加することでLLMにresearch_nodeから受け取った結果を弄らせない\n",
    "\n",
    "def code_node(state: State) -> Command[Literal[\"supervisor\"]]:\n",
    "    result = code_agent.invoke(state)\n",
    "    return Command(\n",
    "        update={\n",
    "            \"messages\": [\n",
    "                HumanMessage(content=result[\"messages\"][-1].content, name=\"coder\")\n",
    "            ]\n",
    "        },\n",
    "        goto=\"supervisor\",\n",
    "    )"
   ]
  },
  {
   "cell_type": "markdown",
   "id": "94a1a36c",
   "metadata": {},
   "source": [
    "## グラフのコンパイル\n",
    "\n",
    "関数として定義した`supervisor`と`create_react_agent()`を使って作成した`ReAct Agent`を含む関数`research_node`と`code_node`の3つをNodeとしてグラフに追加し、コンパイルする。"
   ]
  },
  {
   "cell_type": "code",
   "execution_count": 11,
   "id": "b31a627f",
   "metadata": {},
   "outputs": [],
   "source": [
    "builder = StateGraph(State)\n",
    "builder.add_edge(START, \"supervisor\")\n",
    "builder.add_node(\"supervisor\", supervisor_node)\n",
    "builder.add_node(\"researcher\", research_node)\n",
    "builder.add_node(\"coder\", code_node)\n",
    "graph = builder.compile()"
   ]
  },
  {
   "cell_type": "code",
   "execution_count": 12,
   "id": "0175fe14-5854-4197-b7e8-559335d0f81b",
   "metadata": {},
   "outputs": [
    {
     "data": {
      "image/png": "[encoded data removed]",
      "text/plain": [
       "<IPython.core.display.Image object>"
      ]
     },
     "metadata": {},
     "output_type": "display_data"
    }
   ],
   "source": [
    "from IPython.display import display, Image\n",
    "\n",
    "display(Image(graph.get_graph().draw_mermaid_png()))"
   ]
  },
  {
   "cell_type": "markdown",
   "id": "d36496de-7121-4c49-8cb6-58c943c66628",
   "metadata": {},
   "source": [
    "## 実行\n",
    "エージェントにユーザーからのリクエストを渡して実行する。"
   ]
  },
  {
   "cell_type": "code",
   "execution_count": 13,
   "id": "56ba78e9-d9c1-457c-a073-d606d5d3e013",
   "metadata": {},
   "outputs": [
    {
     "name": "stdout",
     "output_type": "stream",
     "text": [
      "((), {'supervisor': {'next': 'researcher'}})\n",
      "----\n",
      "(('researcher:861fce0d-fc52-cbeb-5662-1354fcf7d154',), {'agent': {'messages': [AIMessage(content=\"I can't perform calculations, but I can help you find the information you need. If you're looking for the square root of 42, you can easily find it using a calculator or a math tool. Would you like to know more about square roots or any related concepts?\", additional_kwargs={'refusal': None}, response_metadata={'token_usage': {'completion_tokens': 56, 'prompt_tokens': 98, 'total_tokens': 154, 'completion_tokens_details': {'accepted_prediction_tokens': 0, 'audio_tokens': 0, 'reasoning_tokens': 0, 'rejected_prediction_tokens': 0}, 'prompt_tokens_details': {'audio_tokens': 0, 'cached_tokens': 0}}, 'model_name': 'gpt-4o-mini-2024-07-18', 'system_fingerprint': 'fp_44added55e', 'id': 'chatcmpl-BKS7N6hRC8OMBYB4dzERIZgiiwPWV', 'finish_reason': 'stop', 'logprobs': None}, id='run-10190410-5206-4597-8e05-2b9dcb9fa14b-0', usage_metadata={'input_tokens': 98, 'output_tokens': 56, 'total_tokens': 154, 'input_token_details': {'audio': 0, 'cache_read': 0}, 'output_token_details': {'audio': 0, 'reasoning': 0}})]}})\n",
      "----\n",
      "((), {'researcher': {'messages': [HumanMessage(content=\"I can't perform calculations, but I can help you find the information you need. If you're looking for the square root of 42, you can easily find it using a calculator or a math tool. Would you like to know more about square roots or any related concepts?\", additional_kwargs={}, response_metadata={}, name='researcher')]}})\n",
      "----\n",
      "((), {'supervisor': {'next': 'coder'}})\n",
      "----\n"
     ]
    },
    {
     "name": "stderr",
     "output_type": "stream",
     "text": [
      "Python REPL can execute arbitrary code. Use with caution.\n"
     ]
    },
    {
     "name": "stdout",
     "output_type": "stream",
     "text": [
      "(('coder:f6a2266f-a8a2-0a23-903b-87696841a8e0',), {'agent': {'messages': [AIMessage(content='', additional_kwargs={'tool_calls': [{'id': 'call_AM2DTWcg1hmixqIXS7aMzfiA', 'function': {'arguments': '{\"code\":\"import math\\\\nmath.sqrt(42)\"}', 'name': 'python_repl_tool'}, 'type': 'function'}], 'refusal': None}, response_metadata={'token_usage': {'completion_tokens': 24, 'prompt_tokens': 168, 'total_tokens': 192, 'completion_tokens_details': {'accepted_prediction_tokens': 0, 'audio_tokens': 0, 'reasoning_tokens': 0, 'rejected_prediction_tokens': 0}, 'prompt_tokens_details': {'audio_tokens': 0, 'cached_tokens': 0}}, 'model_name': 'gpt-4o-mini-2024-07-18', 'system_fingerprint': 'fp_b376dfbbd5', 'id': 'chatcmpl-BKS7PSaqSbNMEtJMPXzdTnkwl0QSG', 'finish_reason': 'tool_calls', 'logprobs': None}, id='run-a1353643-616c-4480-9e2f-7537a7480218-0', tool_calls=[{'name': 'python_repl_tool', 'args': {'code': 'import math\\nmath.sqrt(42)'}, 'id': 'call_AM2DTWcg1hmixqIXS7aMzfiA', 'type': 'tool_call'}], usage_metadata={'input_tokens': 168, 'output_tokens': 24, 'total_tokens': 192, 'input_token_details': {'audio': 0, 'cache_read': 0}, 'output_token_details': {'audio': 0, 'reasoning': 0}})]}})\n",
      "----\n",
      "(('coder:f6a2266f-a8a2-0a23-903b-87696841a8e0',), {'tools': {'messages': [ToolMessage(content='Successfully executed:\\n```python\\nimport math\\nmath.sqrt(42)\\n```\\nStdout: ', name='python_repl_tool', id='36b5ecab-6d9e-4431-93f5-51198eb63e24', tool_call_id='call_AM2DTWcg1hmixqIXS7aMzfiA')]}})\n",
      "----\n",
      "(('coder:f6a2266f-a8a2-0a23-903b-87696841a8e0',), {'agent': {'messages': [AIMessage(content='The square root of 42 is approximately 6.4807.', additional_kwargs={'refusal': None}, response_metadata={'token_usage': {'completion_tokens': 16, 'prompt_tokens': 221, 'total_tokens': 237, 'completion_tokens_details': {'accepted_prediction_tokens': 0, 'audio_tokens': 0, 'reasoning_tokens': 0, 'rejected_prediction_tokens': 0}, 'prompt_tokens_details': {'audio_tokens': 0, 'cached_tokens': 0}}, 'model_name': 'gpt-4o-mini-2024-07-18', 'system_fingerprint': 'fp_b376dfbbd5', 'id': 'chatcmpl-BKS7R4UPqmpAmDu1VqToW6C9u2FLE', 'finish_reason': 'stop', 'logprobs': None}, id='run-21eb5297-5f78-484c-8ac4-d2443b8698e3-0', usage_metadata={'input_tokens': 221, 'output_tokens': 16, 'total_tokens': 237, 'input_token_details': {'audio': 0, 'cache_read': 0}, 'output_token_details': {'audio': 0, 'reasoning': 0}})]}})\n",
      "----\n",
      "((), {'coder': {'messages': [HumanMessage(content='The square root of 42 is approximately 6.4807.', additional_kwargs={}, response_metadata={}, name='coder')]}})\n",
      "----\n",
      "((), {'supervisor': {'next': '__end__'}})\n",
      "----\n"
     ]
    }
   ],
   "source": [
    "for s in graph.stream(\n",
    "    {\"messages\": [(\"user\", \"What's the square root of 42?\")]}, subgraphs=True\n",
    "):\n",
    "    print(s)\n",
    "    print(\"----\")"
   ]
  },
  {
   "cell_type": "code",
   "execution_count": 14,
   "id": "dc26a17f",
   "metadata": {},
   "outputs": [
    {
     "name": "stdout",
     "output_type": "stream",
     "text": [
      "The square root of 42 is approximately 6.4807.\n"
     ]
    }
   ],
   "source": [
    "print(graph.invoke({\"messages\": [(\"user\", \"What's the square root of 42?\")]})[\"messages\"][-1].content)"
   ]
  },
  {
   "cell_type": "code",
   "execution_count": 15,
   "id": "0ad06e56",
   "metadata": {},
   "outputs": [
    {
     "name": "stdout",
     "output_type": "stream",
     "text": [
      "Kubernetes（K8s）は、コンテナ化されたアプリケーションのデプロイ、スケーリング、および管理を行うためのオープンソースのコンテナオーケストレーションシステムです。主な機能には、コンテナの自動デプロイと管理、スケーリングの自動化、負荷分散、サービスの可用性を保証するためのヘルスチェックなどがあります。\n",
      "\n",
      "K8sは、アプリケーションをパッケージ化して分離し、マルチクラウドやハイブリッドクラウド環境でのオーケストレーションを容易にします。これにより、企業は異なるクラウド環境間でアプリケーションを展開するための共通プラットフォームを持ち、基盤となるクラウドインフラの複雑さを抽象化することができます。\n"
     ]
    }
   ],
   "source": [
    "print(graph.invoke({\"messages\": [(\"user\", \"k8sとは何ですか?\")]})[\"messages\"][-1].content)\n",
    "# graph.invoke({\"messages\": [(\"user\", \"What's k8s?\")]})"
   ]
  },
  {
   "cell_type": "code",
   "execution_count": 16,
   "id": "45a92dfd-0e11-47f5-aad4-b68d24990e34",
   "metadata": {},
   "outputs": [
    {
     "name": "stdout",
     "output_type": "stream",
     "text": [
      "((), {'supervisor': {'next': 'researcher'}})\n",
      "----\n",
      "(('researcher:8867dba1-5b49-9a70-17aa-1ee03b21d721',), {'agent': {'messages': [AIMessage(content='', additional_kwargs={'tool_calls': [{'id': 'call_AMw07g2DHiiTwX8CrkZQYVLI', 'function': {'arguments': '{\"query\": \"latest GDP of New York 2023\"}', 'name': 'tavily_search_results_json'}, 'type': 'function'}, {'id': 'call_SLt9xn5z7QG7axMng5MWEnSS', 'function': {'arguments': '{\"query\": \"latest GDP of California 2023\"}', 'name': 'tavily_search_results_json'}, 'type': 'function'}], 'refusal': None}, response_metadata={'token_usage': {'completion_tokens': 66, 'prompt_tokens': 104, 'total_tokens': 170, 'completion_tokens_details': {'accepted_prediction_tokens': 0, 'audio_tokens': 0, 'reasoning_tokens': 0, 'rejected_prediction_tokens': 0}, 'prompt_tokens_details': {'audio_tokens': 0, 'cached_tokens': 0}}, 'model_name': 'gpt-4o-mini-2024-07-18', 'system_fingerprint': 'fp_44added55e', 'id': 'chatcmpl-BKS7rslO8kkGPHTcT4AdyTkETmQcQ', 'finish_reason': 'tool_calls', 'logprobs': None}, id='run-050cbaa4-4c98-4440-b77a-e83ad42bb8d9-0', tool_calls=[{'name': 'tavily_search_results_json', 'args': {'query': 'latest GDP of New York 2023'}, 'id': 'call_AMw07g2DHiiTwX8CrkZQYVLI', 'type': 'tool_call'}, {'name': 'tavily_search_results_json', 'args': {'query': 'latest GDP of California 2023'}, 'id': 'call_SLt9xn5z7QG7axMng5MWEnSS', 'type': 'tool_call'}], usage_metadata={'input_tokens': 104, 'output_tokens': 66, 'total_tokens': 170, 'input_token_details': {'audio': 0, 'cache_read': 0}, 'output_token_details': {'audio': 0, 'reasoning': 0}})]}})\n",
      "----\n",
      "(('researcher:8867dba1-5b49-9a70-17aa-1ee03b21d721',), {'tools': {'messages': [ToolMessage(content='[{\"title\": \"Real GDP New York U.S. 2023 | Statista\", \"url\": \"https://www.statista.com/statistics/188087/gdp-of-the-us-federal-state-of-new-york-since-1997/\", \"content\": \"U.S. real GDP of New York 2000-2023\\\\nPublished by Statista Research Department, Jul 5, 2024\\\\nIn 2023, the real gross domestic product (GDP) of New York was about 1.78 trillion U.S. dollars. This is a slight increase from the previous year, when the state\\'s GDP stood at 1.76 trillion U.S. dollars.\\\\nRead more\\\\nReal gross domestic product of New York in the United States from 2000 to 2023 (in billion U.S. dollars)\\\\ntable column chart\\\\n| Characteristic | Real GDP in billion U.S. dollars |\\\\n| --- | --- | [...] | 2023 | 17,757.14 |\\\\n| 2022 | 17,635.25 |\\\\n| 2021 | 17,244.72 |\\\\n| 2020 | 16,505.67 |\\\\n| 2019 | 17,097.51 |\\\\n| 2018 | 16,651.87 |\\\\n| 2017 | 16,248.01 |\\\\n| 2016 | 1,403.23 |\\\\n| 2015 | 1,373.64 |\\\\n| 2014 | 1,353.41 |\\\\n| 2013 | 1,329.38 |\\\\n| 2012 | 1,328.23 |\\\\n| 2011 | 1,279.53 |\\\\n| 2010 | 1,277.47 |\\\\n| 2009 | 1,230.67 |\\\\n| 2008 | 1,190.08 |\\\\n| 2007 | 1,208.56 |\\\\n| 2006 | 1,199.28 |\\\\n| 2005 | 1,168.89 |\\\\n| 2004 | 1,144.13 |\\\\n| 2003 | 1,110.61 |\\\\n| 2002 | 1,106.15 |\\\\n| 2001 | 1,112.79 |\\\\n| 2000 | 1,092.19 | [...] BEA. (March 29, 2024). Real gross domestic product of New York in the United States from 2000 to 2023 (in billion U.S. dollars) [Graph]. In Statista. Retrieved February 08, 2025, from https://www.statista.com/statistics/188087/gdp-of-the-us-federal-state-of-new-york-since-1997/\", \"score\": 0.86632514}, {\"title\": \"Economy of New York City - Wikipedia\", \"url\": \"https://en.wikipedia.org/wiki/Economy_of_New_York_City\", \"content\": \"GDP[edit]\\\\nIn 2023, the GDP of New York City was around $1.286 trillion of which $939 billion or 73% was Manhattan.[17]\\\\nCounty  GDP\\\\nNew York    $938.995 billion\\\\nKings   $135.980 billion\\\\nQueens  $133.874 billion\\\\nBronx   $54.591 billion\\\\nRichmond    $22.298 billion\\\\nNew York City   $1,285.738 billion\\\\nCity economic overview[edit]\\\\nTop publicly traded companies\\\\nin New York City\\\\n(ranked by 2015 revenues)\\\\nwith City and U.S. ranks\\\\nNYC     corporation     US\\\\n1       Verizon Communications      13 [...] The economy of New York City encompasses the largest municipal and regional economy in the United States. In 2023, the New York City Metropolitan Area generated a GMP of US$2.299 trillion.[5] Anchored by Wall Street in Lower Manhattan, New York City has been characterized as the world\\'s premier financial center.[6][7][8][9] The city is home to the New York Stock Exchange (NYSE, on Wall Street) and Nasdaq (headquartered in Times Square), the world\\'s two largest stock exchanges by both market\", \"score\": 0.8585411}, {\"title\": \"New York state ranks among slowest economies in U.S. | Economics\", \"url\": \"https://www.romesentinel.com/townnews/economics/new-york-gdp-growth-2023-trends-decline/article_ba9cbc6a-42b5-4275-90fd-6a2eb695dce1.html\", \"content\": \"New York\\'s overall share of the U.S. economy is still very high, but its 7.9% in 2023 was down slightly from 8% the year prior. The state’s population loss of more than 100,000 people is also worth noting, since fewer people means a smaller labor pool, and eventually, fewer spenders. Not great when buyers set the wheel in motion.\\\\n\\\\nHere\\'s a breakdown of the numbers:\\\\n\\\\nGDP growth in state, 2022-2023: +1.5% (+$26.1 billion)\\\\n\\\\nState GDP in 2023: $1.8 trillion (7.9% of US economy) [...] Log In Using Your Account\\\\n\\\\n\\\\n\\\\n\\\\n\\\\nIs New York losing its edge? State ranks among slowest economies\\\\n\\\\nWill Phillips\\\\n\\\\nStaff writer\\\\n\\\\nWhile the U.S. economy continues to outpace other high-income countries with a solid 2.9% GDP increase in 2023, New York isn’t exactly spearheading the mission. According to the latest numbers from the Bureau of Economic Analysis, New York’s economy was below the national average, and the No. 8 slowest grower overall. [...] State GDP in 2022: $1.8 trillion (8.0% of US economy)\\\\n\\\\nChange in personal income, 2022-2023: +5.7% (+$86.5 billion)\\\\n\\\\nPopulation change, 2022-2023: -0.54% (-105,935 people)\\\\n\\\\nPersonal income per capita: $82,323 in 2023, $77,486 in 2022\\\\n\\\\nLargest driver of economic growth in mid-2024: Retail trade (+0.73 ppts. to GDP from Q2 to Q3 2024)\\\\n\\\\nLargest drag on economic growth in mid-2024: Finance and insurance (-0.26 ppts. to GDP from Q2 to Q3 2024)\", \"score\": 0.8338803}, {\"title\": \"Gross Domestic Product: All Industry Total in New York (NYNGSP)\", \"url\": \"https://fred.stlouisfed.org/series/NYNGSP\", \"content\": \"Categories > U.S. Regional Data > States > New York\\\\nGross Domestic Product: All Industry Total in New York (NYNGSP)\\\\nObservations\\\\n2023: 2,172,009.6 | Millions of Dollars | Annual\\\\nUpdated: Sep 27, 2024 9:08 AM CDT\\\\nNext Release Date: Mar 28, 2025\\\\nObservations\\\\n2023: 2,172,009.6\\\\nUpdated: Sep 27, 2024 9:08 AM CDT\\\\nNext Release Date: Mar 28, 2025\\\\n2023:\\xa02,172,009.6\\xa02022:\\xa02,052,758.8\\xa02021:\\xa01,923,413.3\\xa02020:\\xa01,773,369.8\\xa02019:\\xa01,787,470.9\\xa0View All\\\\nUnits:\\\\nMillions of Dollars,\\\\nNot Seasonally Adjusted\", \"score\": 0.82048416}, {\"title\": \"GDP by industry New York U.S. 2023 | Statista\", \"url\": \"https://www.statista.com/statistics/304883/new-york-real-gdp-by-industry/\", \"content\": \"U.S. real value added to GDP in New York 2023, by industry\\\\nPublished by Statista Research Department, Oct 14, 2024\\\\nIn 2023, the mining, quarrying, and oil and gas extraction industry added about 730 million chained 2017 U.S. dollars of value to New York\\'s GDP. Total real GDP amounted to about 1.79 trillion chained 2017 U.S. dollars. In 2023, the per capita personal income in New York was 82,323 current U.S. dollars.\\\\nRead more [...] | Educational services, health care, and social assistance | 173.21 |\\\\n| Retail trade | 77.7 |\\\\n| Arts, entertainment, recreation, accommodation, and food services | 73.12 |\\\\n| Manufacturing | 69.69 |\\\\n| Wholesale trade | 63.48 |\\\\n| Construction | 43.18 |\\\\n| Transportation and warehousing | 39.68 |\\\\n| Utilities | 22.4 |\\\\n| Agriculture, forestry, fishing, and hunting | 2.8 |\\\\n| Mining, quarrying, and oil and gas extraction | 0.73 |\\\\nLoading statistic...\\\\nExpand statistic\\\\nAdditional Information [...] BEA. (September 27, 2024). Real value added to the gross domestic product of New York in the United States in 2023, by industry (in billion chained 2017 U.S. dollars) [Graph]. In Statista. Retrieved February 08, 2025, from https://www.statista.com/statistics/304883/new-york-real-gdp-by-industry/\", \"score\": 0.8047902}]', name='tavily_search_results_json', id='4200afd5-c972-4f5e-8eb1-5dae45627459', tool_call_id='call_AMw07g2DHiiTwX8CrkZQYVLI', artifact={'query': 'latest GDP of New York 2023', 'follow_up_questions': None, 'answer': None, 'images': [], 'results': [{'url': 'https://www.statista.com/statistics/188087/gdp-of-the-us-federal-state-of-new-york-since-1997/', 'title': 'Real GDP New York U.S. 2023 | Statista', 'content': \"U.S. real GDP of New York 2000-2023\\nPublished by Statista Research Department, Jul 5, 2024\\nIn 2023, the real gross domestic product (GDP) of New York was about 1.78 trillion U.S. dollars. This is a slight increase from the previous year, when the state's GDP stood at 1.76 trillion U.S. dollars.\\nRead more\\nReal gross domestic product of New York in the United States from 2000 to 2023 (in billion U.S. dollars)\\ntable column chart\\n| Characteristic | Real GDP in billion U.S. dollars |\\n| --- | --- | [...] | 2023 | 17,757.14 |\\n| 2022 | 17,635.25 |\\n| 2021 | 17,244.72 |\\n| 2020 | 16,505.67 |\\n| 2019 | 17,097.51 |\\n| 2018 | 16,651.87 |\\n| 2017 | 16,248.01 |\\n| 2016 | 1,403.23 |\\n| 2015 | 1,373.64 |\\n| 2014 | 1,353.41 |\\n| 2013 | 1,329.38 |\\n| 2012 | 1,328.23 |\\n| 2011 | 1,279.53 |\\n| 2010 | 1,277.47 |\\n| 2009 | 1,230.67 |\\n| 2008 | 1,190.08 |\\n| 2007 | 1,208.56 |\\n| 2006 | 1,199.28 |\\n| 2005 | 1,168.89 |\\n| 2004 | 1,144.13 |\\n| 2003 | 1,110.61 |\\n| 2002 | 1,106.15 |\\n| 2001 | 1,112.79 |\\n| 2000 | 1,092.19 | [...] BEA. (March 29, 2024). Real gross domestic product of New York in the United States from 2000 to 2023 (in billion U.S. dollars) [Graph]. In Statista. Retrieved February 08, 2025, from https://www.statista.com/statistics/188087/gdp-of-the-us-federal-state-of-new-york-since-1997/\", 'score': 0.86632514, 'raw_content': None}, {'url': 'https://en.wikipedia.org/wiki/Economy_of_New_York_City', 'title': 'Economy of New York City - Wikipedia', 'content': \"GDP[edit]\\nIn 2023, the GDP of New York City was around $1.286 trillion of which $939 billion or 73% was Manhattan.[17]\\nCounty  GDP\\nNew York    $938.995 billion\\nKings   $135.980 billion\\nQueens  $133.874 billion\\nBronx   $54.591 billion\\nRichmond    $22.298 billion\\nNew York City   $1,285.738 billion\\nCity economic overview[edit]\\nTop publicly traded companies\\nin New York City\\n(ranked by 2015 revenues)\\nwith City and U.S. ranks\\nNYC     corporation     US\\n1       Verizon Communications      13 [...] The economy of New York City encompasses the largest municipal and regional economy in the United States. In 2023, the New York City Metropolitan Area generated a GMP of US$2.299 trillion.[5] Anchored by Wall Street in Lower Manhattan, New York City has been characterized as the world's premier financial center.[6][7][8][9] The city is home to the New York Stock Exchange (NYSE, on Wall Street) and Nasdaq (headquartered in Times Square), the world's two largest stock exchanges by both market\", 'score': 0.8585411, 'raw_content': None}, {'url': 'https://www.romesentinel.com/townnews/economics/new-york-gdp-growth-2023-trends-decline/article_ba9cbc6a-42b5-4275-90fd-6a2eb695dce1.html', 'title': 'New York state ranks among slowest economies in U.S. | Economics', 'content': \"New York's overall share of the U.S. economy is still very high, but its 7.9% in 2023 was down slightly from 8% the year prior. The state’s population loss of more than 100,000 people is also worth noting, since fewer people means a smaller labor pool, and eventually, fewer spenders. Not great when buyers set the wheel in motion.\\n\\nHere's a breakdown of the numbers:\\n\\nGDP growth in state, 2022-2023: +1.5% (+$26.1 billion)\\n\\nState GDP in 2023: $1.8 trillion (7.9% of US economy) [...] Log In Using Your Account\\n\\n\\n\\n\\n\\nIs New York losing its edge? State ranks among slowest economies\\n\\nWill Phillips\\n\\nStaff writer\\n\\nWhile the U.S. economy continues to outpace other high-income countries with a solid 2.9% GDP increase in 2023, New York isn’t exactly spearheading the mission. According to the latest numbers from the Bureau of Economic Analysis, New York’s economy was below the national average, and the No. 8 slowest grower overall. [...] State GDP in 2022: $1.8 trillion (8.0% of US economy)\\n\\nChange in personal income, 2022-2023: +5.7% (+$86.5 billion)\\n\\nPopulation change, 2022-2023: -0.54% (-105,935 people)\\n\\nPersonal income per capita: $82,323 in 2023, $77,486 in 2022\\n\\nLargest driver of economic growth in mid-2024: Retail trade (+0.73 ppts. to GDP from Q2 to Q3 2024)\\n\\nLargest drag on economic growth in mid-2024: Finance and insurance (-0.26 ppts. to GDP from Q2 to Q3 2024)\", 'score': 0.8338803, 'raw_content': None}, {'url': 'https://fred.stlouisfed.org/series/NYNGSP', 'title': 'Gross Domestic Product: All Industry Total in New York (NYNGSP)', 'content': 'Categories > U.S. Regional Data > States > New York\\nGross Domestic Product: All Industry Total in New York (NYNGSP)\\nObservations\\n2023: 2,172,009.6 | Millions of Dollars | Annual\\nUpdated: Sep 27, 2024 9:08 AM CDT\\nNext Release Date: Mar 28, 2025\\nObservations\\n2023: 2,172,009.6\\nUpdated: Sep 27, 2024 9:08 AM CDT\\nNext Release Date: Mar 28, 2025\\n2023:\\xa02,172,009.6\\xa02022:\\xa02,052,758.8\\xa02021:\\xa01,923,413.3\\xa02020:\\xa01,773,369.8\\xa02019:\\xa01,787,470.9\\xa0View All\\nUnits:\\nMillions of Dollars,\\nNot Seasonally Adjusted', 'score': 0.82048416, 'raw_content': None}, {'url': 'https://www.statista.com/statistics/304883/new-york-real-gdp-by-industry/', 'title': 'GDP by industry New York U.S. 2023 | Statista', 'content': \"U.S. real value added to GDP in New York 2023, by industry\\nPublished by Statista Research Department, Oct 14, 2024\\nIn 2023, the mining, quarrying, and oil and gas extraction industry added about 730 million chained 2017 U.S. dollars of value to New York's GDP. Total real GDP amounted to about 1.79 trillion chained 2017 U.S. dollars. In 2023, the per capita personal income in New York was 82,323 current U.S. dollars.\\nRead more [...] | Educational services, health care, and social assistance | 173.21 |\\n| Retail trade | 77.7 |\\n| Arts, entertainment, recreation, accommodation, and food services | 73.12 |\\n| Manufacturing | 69.69 |\\n| Wholesale trade | 63.48 |\\n| Construction | 43.18 |\\n| Transportation and warehousing | 39.68 |\\n| Utilities | 22.4 |\\n| Agriculture, forestry, fishing, and hunting | 2.8 |\\n| Mining, quarrying, and oil and gas extraction | 0.73 |\\nLoading statistic...\\nExpand statistic\\nAdditional Information [...] BEA. (September 27, 2024). Real value added to the gross domestic product of New York in the United States in 2023, by industry (in billion chained 2017 U.S. dollars) [Graph]. In Statista. Retrieved February 08, 2025, from https://www.statista.com/statistics/304883/new-york-real-gdp-by-industry/\", 'score': 0.8047902, 'raw_content': None}], 'response_time': 1.43}), ToolMessage(content='[{\"title\": \"What is the gross domestic product (GDP) in California? - USAFacts\", \"url\": \"https://usafacts.org/answers/what-is-the-gross-domestic-product-gdp/state/california/\", \"content\": \"In 2023, GDP per person in California was $82,877, up 1.9% from 2022. In 2023, real GDP was equivalent to $82,877 per person. Real gross\", \"score\": 0.87348515}, {\"title\": \"Gross domestic product by state U.S. 2023 - Statista\", \"url\": \"https://www.statista.com/statistics/248023/us-gross-domestic-product-gdp-by-state/\", \"content\": \"U.S. gross domestic product 2023, by state\\\\nPublished by Statista Research Department, Jul 5, 2024\\\\nThe gross domestic product (GDP) of California was about 3.23 trillion U.S. dollars in 2023, meaning that it contributed the most out of any state to the country’s GDP in that year. In contrast, Vermont had the lowest GDP in the United States, with 35.07 billion U.S. dollars.\\xa0  \\\\nWhat is GDP? [...] | --- | --- |\\\\n| California | 3,233.15 |\\\\n| Texas | 2,032.93 |\\\\n| New York | 1,775.71 |\\\\n| Florida | 1,279.12 |\\\\n| Illinois | 875.57 |\\\\n| Pennsylvania | 789.5 |\\\\n| Ohio | 698.22 |\\\\n| Washington | 672.13 |\\\\n| Georgia | 661.11 |\\\\n| New Jersey | 656.48 |\\\\n| North Carolina | 625.68 |\\\\n| Massachusetts | 615.15 |\\\\n| Virginia | 590.8 |\\\\n| Michigan | 547.77 |\\\\n| Colorado | 428.04 |\\\\n| Tennessee | 425.41 |\\\\n| Maryland | 421 |\\\\n| Arizona | 414.27 |\\\\n| Indiana | 401.47 |\\\\n| Minnesota | 383.62 |\\\\n| Missouri | 344.12 | [...] U.S. gross domestic product 2023, by state\\\\nU.S. real gross domestic product 2023, by state\\\\nU.S. real GDP growth 2023, by state\\\\nU.S. real GDP of California 2000-2023\\\\nU.S. real GDP of Texas 2000-2023\\\\nU.S. real GDP of New York 2000-2023\\\\nU.S. real GDP of Florida 2000-2023\\\\n\\\\nThe most important statistics\", \"score\": 0.8679453}, {\"title\": \"Real GDP California U.S. 2023 - Statista\", \"url\": \"https://www.statista.com/statistics/187834/gdp-of-the-us-federal-state-of-california-since-1997/\", \"content\": \"U.S. real GDP of California 2000-2023\\\\nPublished by Statista Research Department, Jul 5, 2024\\\\nIn 2023, the real gross domestic product (GDP) of California was 3.23 trillion U.S. dollars. This is a slight increase from the previous year, when the state\\'s GDP stood at 3.23 trillion U.S. dollars.\\\\nRead more\\\\nReal gross domestic product of California in the United States from 2000 to 2023 (in billion U.S. dollars)\\\\ntable column chart\\\\n| Characteristic | Real GDP in billion U.S. dollars |\\\\n| --- | --- | [...] | 2023 | 3,233.15 |\\\\n| 2022 | 3,167.46 |\\\\n| 2021 | 3,146.19 |\\\\n| 2020 | 2,925.15 |\\\\n| 2019 | 2,962.79 |\\\\n| 2018 | 2,850.97 |\\\\n| 2017 | 2,740.55 |\\\\n| 2016 | 2,427.89 |\\\\n| 2015 | 2,357.45 |\\\\n| 2014 | 2,256.05 |\\\\n| 2013 | 2,179.23 |\\\\n| 2012 | 2,113.1 |\\\\n| 2011 | 2,063.83 |\\\\n| 2010 | 2,036.02 |\\\\n| 2009 | 1,995.44 |\\\\n| 2008 | 2,061.64 |\\\\n| 2007 | 2,041.19 |\\\\n| 2006 | 2,002.44 |\\\\n| 2005 | 1,926.84 |\\\\n| 2004 | 1,850.9 |\\\\n| 2003 | 1,790 |\\\\n| 2002 | 1,722.52 |\\\\n| 2001 | 1,692.32 |\\\\n| 2000 | 1,696.17 |\\\\nLoading statistic... [...] BEA. (March 29, 2024). Real gross domestic product of California in the United States from 2000 to 2023 (in billion U.S. dollars) [Graph]. In Statista. Retrieved February 08, 2025, from https://www.statista.com/statistics/187834/gdp-of-the-us-federal-state-of-california-since-1997/\", \"score\": 0.8660535}, {\"title\": \"California Remains the World\\'s 5th Largest Economy\", \"url\": \"https://www.gov.ca.gov/2024/04/16/california-remains-the-worlds-5th-largest-economy/\", \"content\": \"California remains the 5th largest economy in the world since 2017. California is the 5th largest economy in the world for the seventh consecutive year, with a nominal GDP of nearly $3.9 trillion in 2023 and a growth rate of 6.1% since the year prior, according to the U.S. Bureau of Economic Analysis (BEA). On a per capita basis, California is the second largest economy in the world.\", \"score\": 0.86441374}, {\"title\": \"[PDF] California\\'s Economy\", \"url\": \"https://www.ppic.org/wp-content/uploads/californias-economy.pdf\", \"content\": \"California is an economic powerhouse, nationally and globally. \\\\n⊲ In 2023, California’s GDP was about $3.9 trillion, comprising 14% of national GDP ($27.7 trillion). Texas and New York are the next largest state economies at 9% and 8%, respectively. \\\\n⊲ California’s economy ranks 5th internationally, behind the US, China, Germany, and Japan. On a per capita basis, California’s GDP is greater than all of these countries. [...] more than 25 years. Professional services and information grew substantially over that time—driven primarily by tech—and are now 16% and 14% of GDP, respectively. Manufacturing has also grown, from 8% to 11%. \\\\n⊲ Health care is among the fastest growing contributors, making up 7% of GDP in 2023. Health care/social assistance is the largest sector statewide in terms of businesses (40%) and jobs (16%). \\\\nGrowth in jobs and businesses have powered the state’s economy. [...] ⊲ California’s economy has grown relatively slowly in recent years, averaging 2.3% per year between 2020 and 2023, compared to 3.9% on average over the previous four years. By comparison, Florida (4.6%) and Texas (3.9%) grew faster than California since 2020.\", \"score\": 0.85216236}]', name='tavily_search_results_json', id='0fc7a7a7-c62c-490b-aaa2-6f2052d69b72', tool_call_id='call_SLt9xn5z7QG7axMng5MWEnSS', artifact={'query': 'latest GDP of California 2023', 'follow_up_questions': None, 'answer': None, 'images': [], 'results': [{'url': 'https://usafacts.org/answers/what-is-the-gross-domestic-product-gdp/state/california/', 'title': 'What is the gross domestic product (GDP) in California? - USAFacts', 'content': 'In 2023, GDP per person in California was $82,877, up 1.9% from 2022. In 2023, real GDP was equivalent to $82,877 per person. Real gross', 'score': 0.87348515, 'raw_content': None}, {'url': 'https://www.statista.com/statistics/248023/us-gross-domestic-product-gdp-by-state/', 'title': 'Gross domestic product by state U.S. 2023 - Statista', 'content': 'U.S. gross domestic product 2023, by state\\nPublished by Statista Research Department, Jul 5, 2024\\nThe gross domestic product (GDP) of California was about 3.23 trillion U.S. dollars in 2023, meaning that it contributed the most out of any state to the country’s GDP in that year. In contrast, Vermont had the lowest GDP in the United States, with 35.07 billion U.S. dollars.\\xa0  \\nWhat is GDP? [...] | --- | --- |\\n| California | 3,233.15 |\\n| Texas | 2,032.93 |\\n| New York | 1,775.71 |\\n| Florida | 1,279.12 |\\n| Illinois | 875.57 |\\n| Pennsylvania | 789.5 |\\n| Ohio | 698.22 |\\n| Washington | 672.13 |\\n| Georgia | 661.11 |\\n| New Jersey | 656.48 |\\n| North Carolina | 625.68 |\\n| Massachusetts | 615.15 |\\n| Virginia | 590.8 |\\n| Michigan | 547.77 |\\n| Colorado | 428.04 |\\n| Tennessee | 425.41 |\\n| Maryland | 421 |\\n| Arizona | 414.27 |\\n| Indiana | 401.47 |\\n| Minnesota | 383.62 |\\n| Missouri | 344.12 | [...] U.S. gross domestic product 2023, by state\\nU.S. real gross domestic product 2023, by state\\nU.S. real GDP growth 2023, by state\\nU.S. real GDP of California 2000-2023\\nU.S. real GDP of Texas 2000-2023\\nU.S. real GDP of New York 2000-2023\\nU.S. real GDP of Florida 2000-2023\\n\\nThe most important statistics', 'score': 0.8679453, 'raw_content': None}, {'url': 'https://www.statista.com/statistics/187834/gdp-of-the-us-federal-state-of-california-since-1997/', 'title': 'Real GDP California U.S. 2023 - Statista', 'content': \"U.S. real GDP of California 2000-2023\\nPublished by Statista Research Department, Jul 5, 2024\\nIn 2023, the real gross domestic product (GDP) of California was 3.23 trillion U.S. dollars. This is a slight increase from the previous year, when the state's GDP stood at 3.23 trillion U.S. dollars.\\nRead more\\nReal gross domestic product of California in the United States from 2000 to 2023 (in billion U.S. dollars)\\ntable column chart\\n| Characteristic | Real GDP in billion U.S. dollars |\\n| --- | --- | [...] | 2023 | 3,233.15 |\\n| 2022 | 3,167.46 |\\n| 2021 | 3,146.19 |\\n| 2020 | 2,925.15 |\\n| 2019 | 2,962.79 |\\n| 2018 | 2,850.97 |\\n| 2017 | 2,740.55 |\\n| 2016 | 2,427.89 |\\n| 2015 | 2,357.45 |\\n| 2014 | 2,256.05 |\\n| 2013 | 2,179.23 |\\n| 2012 | 2,113.1 |\\n| 2011 | 2,063.83 |\\n| 2010 | 2,036.02 |\\n| 2009 | 1,995.44 |\\n| 2008 | 2,061.64 |\\n| 2007 | 2,041.19 |\\n| 2006 | 2,002.44 |\\n| 2005 | 1,926.84 |\\n| 2004 | 1,850.9 |\\n| 2003 | 1,790 |\\n| 2002 | 1,722.52 |\\n| 2001 | 1,692.32 |\\n| 2000 | 1,696.17 |\\nLoading statistic... [...] BEA. (March 29, 2024). Real gross domestic product of California in the United States from 2000 to 2023 (in billion U.S. dollars) [Graph]. In Statista. Retrieved February 08, 2025, from https://www.statista.com/statistics/187834/gdp-of-the-us-federal-state-of-california-since-1997/\", 'score': 0.8660535, 'raw_content': None}, {'url': 'https://www.gov.ca.gov/2024/04/16/california-remains-the-worlds-5th-largest-economy/', 'title': \"California Remains the World's 5th Largest Economy\", 'content': 'California remains the 5th largest economy in the world since 2017. California is the 5th largest economy in the world for the seventh consecutive year, with a nominal GDP of nearly $3.9 trillion in 2023 and a growth rate of 6.1% since the year prior, according to the U.S. Bureau of Economic Analysis (BEA). On a per capita basis, California is the second largest economy in the world.', 'score': 0.86441374, 'raw_content': None}, {'url': 'https://www.ppic.org/wp-content/uploads/californias-economy.pdf', 'title': \"[PDF] California's Economy\", 'content': 'California is an economic powerhouse, nationally and globally. \\n⊲ In 2023, California’s GDP was about $3.9 trillion, comprising 14% of national GDP ($27.7 trillion). Texas and New York are the next largest state economies at 9% and 8%, respectively. \\n⊲ California’s economy ranks 5th internationally, behind the US, China, Germany, and Japan. On a per capita basis, California’s GDP is greater than all of these countries. [...] more than 25 years. Professional services and information grew substantially over that time—driven primarily by tech—and are now 16% and 14% of GDP, respectively. Manufacturing has also grown, from 8% to 11%. \\n⊲ Health care is among the fastest growing contributors, making up 7% of GDP in 2023. Health care/social assistance is the largest sector statewide in terms of businesses (40%) and jobs (16%). \\nGrowth in jobs and businesses have powered the state’s economy. [...] ⊲ California’s economy has grown relatively slowly in recent years, averaging 2.3% per year between 2020 and 2023, compared to 3.9% on average over the previous four years. By comparison, Florida (4.6%) and Texas (3.9%) grew faster than California since 2020.', 'score': 0.85216236, 'raw_content': None}], 'response_time': 0.74})]}})\n",
      "----\n",
      "(('researcher:8867dba1-5b49-9a70-17aa-1ee03b21d721',), {'agent': {'messages': [AIMessage(content='The latest GDP figures for New York and California in 2023 are as follows:\\n\\n- **New York**: Approximately $1.78 trillion.\\n- **California**: Approximately $3.23 trillion.\\n\\nIf you need further analysis or information, feel free to ask!', additional_kwargs={'refusal': None}, response_metadata={'token_usage': {'completion_tokens': 57, 'prompt_tokens': 3962, 'total_tokens': 4019, 'completion_tokens_details': {'accepted_prediction_tokens': 0, 'audio_tokens': 0, 'reasoning_tokens': 0, 'rejected_prediction_tokens': 0}, 'prompt_tokens_details': {'audio_tokens': 0, 'cached_tokens': 0}}, 'model_name': 'gpt-4o-mini-2024-07-18', 'system_fingerprint': 'fp_44added55e', 'id': 'chatcmpl-BKS7uzY0UByiYlBqRBhQbrfIt5ZC8', 'finish_reason': 'stop', 'logprobs': None}, id='run-a6d79f93-5b04-4de0-861f-290cfef7f6d8-0', usage_metadata={'input_tokens': 3962, 'output_tokens': 57, 'total_tokens': 4019, 'input_token_details': {'audio': 0, 'cache_read': 0}, 'output_token_details': {'audio': 0, 'reasoning': 0}})]}})\n",
      "----\n",
      "((), {'researcher': {'messages': [HumanMessage(content='The latest GDP figures for New York and California in 2023 are as follows:\\n\\n- **New York**: Approximately $1.78 trillion.\\n- **California**: Approximately $3.23 trillion.\\n\\nIf you need further analysis or information, feel free to ask!', additional_kwargs={}, response_metadata={}, name='researcher')]}})\n",
      "----\n",
      "((), {'supervisor': {'next': 'coder'}})\n",
      "----\n",
      "(('coder:bbdcf1ef-2e7a-6a76-133c-b0f61bcb93d6',), {'agent': {'messages': [AIMessage(content='', additional_kwargs={'tool_calls': [{'id': 'call_dVINfFCEj5b2ThYzoHjx74C0', 'function': {'arguments': '{\"code\":\"new_york_gdp = 1.78e12\\\\ncalifornia_gdp = 3.23e12\\\\naverage_gdp = (new_york_gdp + california_gdp) / 2\\\\naverage_gdp\"}', 'name': 'python_repl_tool'}, 'type': 'function'}], 'refusal': None}, response_metadata={'token_usage': {'completion_tokens': 63, 'prompt_tokens': 175, 'total_tokens': 238, 'completion_tokens_details': {'accepted_prediction_tokens': 0, 'audio_tokens': 0, 'reasoning_tokens': 0, 'rejected_prediction_tokens': 0}, 'prompt_tokens_details': {'audio_tokens': 0, 'cached_tokens': 0}}, 'model_name': 'gpt-4o-mini-2024-07-18', 'system_fingerprint': 'fp_b376dfbbd5', 'id': 'chatcmpl-BKS7wz8xuvraWNOe815G4kYzwzmKR', 'finish_reason': 'tool_calls', 'logprobs': None}, id='run-bd95e6f1-abe8-4846-9bae-25ce9f098da9-0', tool_calls=[{'name': 'python_repl_tool', 'args': {'code': 'new_york_gdp = 1.78e12\\ncalifornia_gdp = 3.23e12\\naverage_gdp = (new_york_gdp + california_gdp) / 2\\naverage_gdp'}, 'id': 'call_dVINfFCEj5b2ThYzoHjx74C0', 'type': 'tool_call'}], usage_metadata={'input_tokens': 175, 'output_tokens': 63, 'total_tokens': 238, 'input_token_details': {'audio': 0, 'cache_read': 0}, 'output_token_details': {'audio': 0, 'reasoning': 0}})]}})\n",
      "----\n",
      "(('coder:bbdcf1ef-2e7a-6a76-133c-b0f61bcb93d6',), {'tools': {'messages': [ToolMessage(content='Successfully executed:\\n```python\\nnew_york_gdp = 1.78e12\\ncalifornia_gdp = 3.23e12\\naverage_gdp = (new_york_gdp + california_gdp) / 2\\naverage_gdp\\n```\\nStdout: ', name='python_repl_tool', id='4f31dfa3-2e13-4f82-a4ee-59a178e065bc', tool_call_id='call_dVINfFCEj5b2ThYzoHjx74C0')]}})\n",
      "----\n",
      "(('coder:bbdcf1ef-2e7a-6a76-133c-b0f61bcb93d6',), {'agent': {'messages': [AIMessage(content='The average GDP of New York and California is approximately $2.500 trillion.', additional_kwargs={'refusal': None}, response_metadata={'token_usage': {'completion_tokens': 18, 'prompt_tokens': 307, 'total_tokens': 325, 'completion_tokens_details': {'accepted_prediction_tokens': 0, 'audio_tokens': 0, 'reasoning_tokens': 0, 'rejected_prediction_tokens': 0}, 'prompt_tokens_details': {'audio_tokens': 0, 'cached_tokens': 0}}, 'model_name': 'gpt-4o-mini-2024-07-18', 'system_fingerprint': 'fp_b376dfbbd5', 'id': 'chatcmpl-BKS7yUXS9xIHN5AUkbmtXn0LYpUSe', 'finish_reason': 'stop', 'logprobs': None}, id='run-8505b757-c0b4-4f9e-9196-e960b57f789f-0', usage_metadata={'input_tokens': 307, 'output_tokens': 18, 'total_tokens': 325, 'input_token_details': {'audio': 0, 'cache_read': 0}, 'output_token_details': {'audio': 0, 'reasoning': 0}})]}})\n",
      "----\n",
      "((), {'coder': {'messages': [HumanMessage(content='The average GDP of New York and California is approximately $2.500 trillion.', additional_kwargs={}, response_metadata={}, name='coder')]}})\n",
      "----\n",
      "((), {'supervisor': {'next': '__end__'}})\n",
      "----\n"
     ]
    }
   ],
   "source": [
    "for s in graph.stream(\n",
    "    {\n",
    "        \"messages\": [\n",
    "            (\n",
    "                \"user\",\n",
    "                \"Find the latest GDP of New York and California, then calculate the average\",\n",
    "            )\n",
    "        ]\n",
    "    },\n",
    "    subgraphs=True,\n",
    "):\n",
    "    print(s)\n",
    "    print(\"----\")"
   ]
  }
 ],
 "metadata": {
  "kernelspec": {
   "display_name": "LangChainStudy",
   "language": "python",
   "name": "python3"
  },
  "language_info": {
   "codemirror_mode": {
    "name": "ipython",
    "version": 3
   },
   "file_extension": ".py",
   "mimetype": "text/x-python",
   "name": "python",
   "nbconvert_exporter": "python",
   "pygments_lexer": "ipython3",
   "version": "3.12.9"
  }
 },
 "nbformat": 4,
 "nbformat_minor": 5
}
