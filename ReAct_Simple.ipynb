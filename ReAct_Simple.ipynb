{
 "cells": [
  {
   "cell_type": "markdown",
   "metadata": {},
   "source": [
    "# ReAct(Reasoning and Acting) Simple\n",
    "\n",
    "- 題材\n",
    "  - How to use the pre-built ReAct agent( https://langchain-ai.github.io/langgraph/how-tos/create-react-agent/ )\n",
    "  - ユーザーからの質問に対して適切なツールを実行し、その結果を踏まえた回答を生成する。\n",
    "\n",
    "- Prebuilt ReAct Agent( https://langchain-ai.github.io/langgraph/how-tos/#prebuilt-react-agent )\n",
    "  - `LangGraph`ではあらかじめ`ReAct Agent`用にコンパイルされたグラフが`prebuild`として用意されている。\n",
    "    - 手動で実装する例: How to create a ReAct agent from scratch( https://langchain-ai.github.io/langgraph/how-tos/react-agent-from-scratch/ )\n",
    "    - 独自のノードとかを追加したい場合はこれを利用するのがよさそう\n",
    "- LangGraphを用いたAIエージェント\"ReAct\"の実装( https://qiita.com/t_serizawa/items/0810a2b05c099c08105e )\n",
    "\n",
    "- ツールの呼び出しには`Tool calling`を利用\n",
    "  - `Tool calling`( https://langchain-ai.github.io/langgraph/how-tos/#tool-calling )( https://python.langchain.com/docs/concepts/tool_calling/ ) \n",
    "\n",
    "\n",
    "(参考)\n",
    "- langchain-ai/react-agent( https://github.com/langchain-ai/react-agent )"
   ]
  },
  {
   "cell_type": "markdown",
   "metadata": {},
   "source": [
    "## パッケージインストール"
   ]
  },
  {
   "cell_type": "code",
   "execution_count": 1,
   "metadata": {},
   "outputs": [
    {
     "name": "stdout",
     "output_type": "stream",
     "text": [
      "Note: you may need to restart the kernel to use updated packages.\n"
     ]
    }
   ],
   "source": [
    "%pip install -qU langgraph langchain-openai python-dotenv"
   ]
  },
  {
   "cell_type": "markdown",
   "metadata": {},
   "source": [
    "## 環境変数読み込み"
   ]
  },
  {
   "cell_type": "code",
   "execution_count": 2,
   "metadata": {},
   "outputs": [],
   "source": [
    "from dotenv import load_dotenv\n",
    "import os\n",
    "\n",
    "load_dotenv()\n",
    "os.environ[\"OPENAI_API_KEY\"] = os.getenv(\"OPENAI_API_KEY\")\n",
    "os.environ[\"LANGSMITH_TRACING\"] = \"true\"\n",
    "os.environ[\"LANGSMITH_ENDPOINT\"] = \"https://api.smith.langchain.com\"\n",
    "os.environ[\"LANGSMITH_API_KEY\"] = os.getenv(\"LANGSMITH_API_KEY\")\n",
    "os.environ[\"LANGSMITH_PROJECT\"] = \"langchain-study\""
   ]
  },
  {
   "cell_type": "markdown",
   "metadata": {},
   "source": [
    "## モデルの用意"
   ]
  },
  {
   "cell_type": "code",
   "execution_count": 3,
   "metadata": {},
   "outputs": [],
   "source": [
    "from langchain_openai import ChatOpenAI\n",
    "\n",
    "model = ChatOpenAI(model=\"gpt-4o-mini\", temperature=0)"
   ]
  },
  {
   "cell_type": "markdown",
   "metadata": {},
   "source": [
    "## ツールの用意\n",
    "`@tool`というデコレーターを用いることでAgentに使用させるツールを定義。  \n",
    "関数の定義の直後にコメントとして記載されている関数の説明もツールの説明としてLLMに渡される点がポイント。  \n",
    "\n",
    "- `Tools`( https://python.langchain.com/docs/concepts/tools/ )\n",
    "\n",
    "ここではダミー関数として2つの関数を実装している。"
   ]
  },
  {
   "cell_type": "code",
   "execution_count": 4,
   "metadata": {},
   "outputs": [],
   "source": [
    "from typing import Literal\n",
    "from langchain_core.tools import tool\n",
    "\n",
    "@tool\n",
    "def get_weather(city: Literal[\"Tokyo\", \"Hokkaido\"]) -> str:\n",
    "    \"\"\"天候に関する情報を取得するツール\"\"\"\n",
    "    \n",
    "    if city == \"Tokyo\":\n",
    "        return \"東京の天気は晴れです。\"\n",
    "    elif city == \"Hokkaido\":\n",
    "        return \"北海道の天気は曇りです。\"\n",
    "    else:\n",
    "        raise AssertionError(\"Unknown city\")\n",
    "\n",
    "@tool\n",
    "def search_restaurant(dish: str) -> str:\n",
    "    \"\"\"レストランに関する情報を取得するツール\"\"\"\n",
    "    if dish == \"ハンバーガー\":\n",
    "        return \"マクドナルド。\"\n",
    "    elif dish == \"ラーメン\":\n",
    "        return \"二郎。\"\n",
    "    else:\n",
    "        raise AssertionError(\"Unknown dish\")\n",
    "\n",
    "tools = [get_weather, search_restaurant]"
   ]
  },
  {
   "cell_type": "markdown",
   "metadata": {},
   "source": [
    "## グラフの定義\n",
    "`create_react_agent()`を使用してグラフを作成することで、`ReAct`に沿ったグラフを作成できる。  \n",
    "`prebuilt`パッケージに含まれているのでグラフのコンパイルは不要。\n",
    "\n",
    "- `create_react_agent()`( https://langchain-ai.github.io/langgraph/reference/prebuilt/#langgraph.prebuilt.chat_agent_executor.create_react_agent )"
   ]
  },
  {
   "cell_type": "code",
   "execution_count": 5,
   "metadata": {},
   "outputs": [],
   "source": [
    "from langgraph.prebuilt import create_react_agent\n",
    "\n",
    "graph = create_react_agent(model, tools=tools)\n",
    "# graph = create_react_agent(model, tools=tools, response_format=tuple)  # tupleで結果を取得"
   ]
  },
  {
   "cell_type": "markdown",
   "metadata": {},
   "source": [
    "## 実行"
   ]
  },
  {
   "cell_type": "code",
   "execution_count": 6,
   "metadata": {},
   "outputs": [
    {
     "name": "stdout",
     "output_type": "stream",
     "text": [
      "=== 全てのメッセージを表示 ===\n",
      "HumanMessage: content='東京でラーメンが食べたいな。天気も心配だ。' additional_kwargs={} response_metadata={} id='db969b26-b684-4954-950f-d22ad00dd416'\n",
      "AIMessage: content='' additional_kwargs={'tool_calls': [{'id': 'call_pk2iwSvMbhKzZmIOj25ZKwtV', 'function': {'arguments': '{\"dish\": \"ラーメン\"}', 'name': 'search_restaurant'}, 'type': 'function'}, {'id': 'call_jK4d4AH82hLv9Few80LP9jlt', 'function': {'arguments': '{\"city\": \"Tokyo\"}', 'name': 'get_weather'}, 'type': 'function'}], 'refusal': None} response_metadata={'token_usage': {'completion_tokens': 49, 'prompt_tokens': 104, 'total_tokens': 153, 'completion_tokens_details': {'accepted_prediction_tokens': 0, 'audio_tokens': 0, 'reasoning_tokens': 0, 'rejected_prediction_tokens': 0}, 'prompt_tokens_details': {'audio_tokens': 0, 'cached_tokens': 0}}, 'model_name': 'gpt-4o-mini-2024-07-18', 'system_fingerprint': 'fp_0392822090', 'id': 'chatcmpl-BWnJc702ULLaXCFoZuHjz3mVL7RTX', 'service_tier': 'default', 'finish_reason': 'tool_calls', 'logprobs': None} id='run--ea83310c-a7fd-4720-bca8-2b7af02ed17d-0' tool_calls=[{'name': 'search_restaurant', 'args': {'dish': 'ラーメン'}, 'id': 'call_pk2iwSvMbhKzZmIOj25ZKwtV', 'type': 'tool_call'}, {'name': 'get_weather', 'args': {'city': 'Tokyo'}, 'id': 'call_jK4d4AH82hLv9Few80LP9jlt', 'type': 'tool_call'}] usage_metadata={'input_tokens': 104, 'output_tokens': 49, 'total_tokens': 153, 'input_token_details': {'audio': 0, 'cache_read': 0}, 'output_token_details': {'audio': 0, 'reasoning': 0}}\n",
      "ToolMessage: content='二郎。' name='search_restaurant' id='a225d48c-3c4c-49be-af73-6a6987417c24' tool_call_id='call_pk2iwSvMbhKzZmIOj25ZKwtV'\n",
      "ToolMessage: content='東京の天気は晴れです。' name='get_weather' id='0debbe93-a7af-45bd-8c15-a1d55b80867e' tool_call_id='call_jK4d4AH82hLv9Few80LP9jlt'\n",
      "AIMessage: content='東京でおすすめのラーメン店は「二郎」です。天気は晴れていますので、ラーメンを楽しむには良い日ですね！' additional_kwargs={'refusal': None} response_metadata={'token_usage': {'completion_tokens': 38, 'prompt_tokens': 213, 'total_tokens': 251, 'completion_tokens_details': {'accepted_prediction_tokens': 0, 'audio_tokens': 0, 'reasoning_tokens': 0, 'rejected_prediction_tokens': 0}, 'prompt_tokens_details': {'audio_tokens': 0, 'cached_tokens': 0}}, 'model_name': 'gpt-4o-mini-2024-07-18', 'system_fingerprint': 'fp_0392822090', 'id': 'chatcmpl-BWnJdXING48Y0I0sYFR8zUNXxBQSx', 'service_tier': 'default', 'finish_reason': 'stop', 'logprobs': None} id='run--a0d26ef2-7577-4b45-a53c-2ddf1b3e1231-0' usage_metadata={'input_tokens': 213, 'output_tokens': 38, 'total_tokens': 251, 'input_token_details': {'audio': 0, 'cache_read': 0}, 'output_token_details': {'audio': 0, 'reasoning': 0}}\n",
      "=== 最終的な回答のみを表示 ===\n",
      "東京でおすすめのラーメン店は「二郎」です。天気は晴れていますので、ラーメンを楽しむには良い日ですね！\n"
     ]
    }
   ],
   "source": [
    "# inputs = {\"messages\": [(\"user\", \"東京の天気は？\")]}         # get_weather()が呼び出される\n",
    "# inputs = {\"messages\": [(\"user\", \"ラーメンが食べたいな。\")]}  # search_restaurant()が呼び出される\n",
    "\n",
    "inputs = {\"messages\": [(\"user\", \"東京でラーメンが食べたいな。天気も心配だ。\")]}  # get_weather()とsearch_restaurant()が呼び出される\n",
    "\n",
    "result=graph.invoke(inputs)\n",
    "\n",
    "print(\"=== 全てのメッセージを表示 ===\")\n",
    "for message in result[\"messages\"]:\n",
    "    print(f\"{message.__class__.__name__}: {message}\")\n",
    "\n",
    "print(\"=== 最終的な回答のみを表示 ===\")\n",
    "print(result[\"messages\"][-1].content)"
   ]
  },
  {
   "cell_type": "markdown",
   "metadata": {},
   "source": [
    "## グラフの描画"
   ]
  },
  {
   "cell_type": "code",
   "execution_count": 7,
   "metadata": {},
   "outputs": [
    {
     "data": {
      "image/png": "[encoded data removed]",
      "text/plain": [
       "<IPython.core.display.Image object>"
      ]
     },
     "execution_count": 7,
     "metadata": {},
     "output_type": "execute_result"
    }
   ],
   "source": [
    "from IPython.display import Image\n",
    "\n",
    "Image(graph.get_graph().draw_png())"
   ]
  }
 ],
 "metadata": {
  "kernelspec": {
   "display_name": "LangChainStudy",
   "language": "python",
   "name": "python3"
  },
  "language_info": {
   "codemirror_mode": {
    "name": "ipython",
    "version": 3
   },
   "file_extension": ".py",
   "mimetype": "text/x-python",
   "name": "python",
   "nbconvert_exporter": "python",
   "pygments_lexer": "ipython3",
   "version": "3.12.9"
  }
 },
 "nbformat": 4,
 "nbformat_minor": 2
}
