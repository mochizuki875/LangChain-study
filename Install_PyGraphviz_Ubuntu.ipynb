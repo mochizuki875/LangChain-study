{
 "cells": [
  {
   "cell_type": "markdown",
   "metadata": {},
   "source": [
    "# Install PyGraphviz\n",
    "グラフ可視化のために`graphviz`をインストールする。\n",
    "\n",
    "- graphviz(https://graphviz.org/download/#linux)\n",
    "- install PyGraphviz(https://pygraphviz.github.io/documentation/stable/install.html#linux)"
   ]
  },
  {
   "cell_type": "code",
   "execution_count": 1,
   "metadata": {},
   "outputs": [
    {
     "name": "stdout",
     "output_type": "stream",
     "text": [
      "Reading package lists... Done\n",
      "Building dependency tree... Done\n",
      "Reading state information... Done\n",
      "Note, selecting 'libgraphviz-dev' instead of 'graphviz-dev'\n",
      "graphviz is already the newest version (2.42.2-9ubuntu0.1).\n",
      "libgraphviz-dev is already the newest version (2.42.2-9ubuntu0.1).\n",
      "0 upgraded, 0 newly installed, 0 to remove and 70 not upgraded.\n"
     ]
    }
   ],
   "source": [
    "!sudo apt install -y graphviz graphviz-dev"
   ]
  },
  {
   "cell_type": "code",
   "execution_count": 2,
   "metadata": {},
   "outputs": [
    {
     "name": "stdout",
     "output_type": "stream",
     "text": [
      "Note: you may need to restart the kernel to use updated packages.\n"
     ]
    }
   ],
   "source": [
    "%pip install -qU pygraphviz"
   ]
  }
 ],
 "metadata": {
  "kernelspec": {
   "display_name": "LangChainStudy",
   "language": "python",
   "name": "python3"
  },
  "language_info": {
   "codemirror_mode": {
    "name": "ipython",
    "version": 3
   },
   "file_extension": ".py",
   "mimetype": "text/x-python",
   "name": "python",
   "nbconvert_exporter": "python",
   "pygments_lexer": "ipython3",
   "version": "3.12.9"
  }
 },
 "nbformat": 4,
 "nbformat_minor": 2
}
