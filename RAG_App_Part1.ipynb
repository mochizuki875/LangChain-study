{
 "cells": [
  {
   "cell_type": "markdown",
   "metadata": {},
   "source": [
    "# Build a Retrieval Augmented Generation (RAG) App: Part 1\n",
    "\n",
    "- Build a Retrieval Augmented Generation (RAG) App: Part 1( https://python.langchain.com/docs/tutorials/rag/ )\n",
    "  - RAGを用いたシンプルなQ&Aアプリケーションの例"
   ]
  },
  {
   "cell_type": "markdown",
   "metadata": {},
   "source": [
    "## RAGにおける2つの要素\n",
    "- `Indexing`\n",
    "  - 外部ストアに固有のデータを保存する\n",
    "  - `Load`,`Split`,`Store`の3ステップから成る\n",
    "- `Retrieval and Generation`\n",
    "  - 入力に基づいてストアを検索し、そこで得た結果を使ってLLMが回答を生成する"
   ]
  },
  {
   "cell_type": "markdown",
   "metadata": {},
   "source": [
    "### パッケージインストール"
   ]
  },
  {
   "cell_type": "code",
   "execution_count": 35,
   "metadata": {},
   "outputs": [
    {
     "name": "stdout",
     "output_type": "stream",
     "text": [
      "\n",
      "\u001b[1m[\u001b[0m\u001b[34;49mnotice\u001b[0m\u001b[1;39;49m]\u001b[0m\u001b[39;49m A new release of pip is available: \u001b[0m\u001b[31;49m24.3.1\u001b[0m\u001b[39;49m -> \u001b[0m\u001b[32;49m25.0.1\u001b[0m\n",
      "\u001b[1m[\u001b[0m\u001b[34;49mnotice\u001b[0m\u001b[1;39;49m]\u001b[0m\u001b[39;49m To update, run: \u001b[0m\u001b[32;49mpip install --upgrade pip\u001b[0m\n",
      "Note: you may need to restart the kernel to use updated packages.\n"
     ]
    }
   ],
   "source": [
    "%pip install -qU langchain-text-splitters langchain-community langgraph langsmith"
   ]
  },
  {
   "cell_type": "code",
   "execution_count": 36,
   "metadata": {},
   "outputs": [
    {
     "name": "stdout",
     "output_type": "stream",
     "text": [
      "\n",
      "\u001b[1m[\u001b[0m\u001b[34;49mnotice\u001b[0m\u001b[1;39;49m]\u001b[0m\u001b[39;49m A new release of pip is available: \u001b[0m\u001b[31;49m24.3.1\u001b[0m\u001b[39;49m -> \u001b[0m\u001b[32;49m25.0.1\u001b[0m\n",
      "\u001b[1m[\u001b[0m\u001b[34;49mnotice\u001b[0m\u001b[1;39;49m]\u001b[0m\u001b[39;49m To update, run: \u001b[0m\u001b[32;49mpip install --upgrade pip\u001b[0m\n",
      "Note: you may need to restart the kernel to use updated packages.\n"
     ]
    }
   ],
   "source": [
    "%pip install -qU langchain langchain-openai langchain-core"
   ]
  },
  {
   "cell_type": "code",
   "execution_count": 37,
   "metadata": {},
   "outputs": [
    {
     "name": "stdout",
     "output_type": "stream",
     "text": [
      "\n",
      "\u001b[1m[\u001b[0m\u001b[34;49mnotice\u001b[0m\u001b[1;39;49m]\u001b[0m\u001b[39;49m A new release of pip is available: \u001b[0m\u001b[31;49m24.3.1\u001b[0m\u001b[39;49m -> \u001b[0m\u001b[32;49m25.0.1\u001b[0m\n",
      "\u001b[1m[\u001b[0m\u001b[34;49mnotice\u001b[0m\u001b[1;39;49m]\u001b[0m\u001b[39;49m To update, run: \u001b[0m\u001b[32;49mpip install --upgrade pip\u001b[0m\n",
      "Note: you may need to restart the kernel to use updated packages.\n"
     ]
    }
   ],
   "source": [
    "%pip install -qU python-dotenv"
   ]
  },
  {
   "cell_type": "code",
   "execution_count": 38,
   "metadata": {},
   "outputs": [
    {
     "name": "stdout",
     "output_type": "stream",
     "text": [
      "\n",
      "\u001b[1m[\u001b[0m\u001b[34;49mnotice\u001b[0m\u001b[1;39;49m]\u001b[0m\u001b[39;49m A new release of pip is available: \u001b[0m\u001b[31;49m24.3.1\u001b[0m\u001b[39;49m -> \u001b[0m\u001b[32;49m25.0.1\u001b[0m\n",
      "\u001b[1m[\u001b[0m\u001b[34;49mnotice\u001b[0m\u001b[1;39;49m]\u001b[0m\u001b[39;49m To update, run: \u001b[0m\u001b[32;49mpip install --upgrade pip\u001b[0m\n",
      "Note: you may need to restart the kernel to use updated packages.\n"
     ]
    }
   ],
   "source": [
    "%pip install -qU bs4"
   ]
  },
  {
   "cell_type": "markdown",
   "metadata": {},
   "source": [
    "### 環境変数の読み込み\n",
    "- `OPENAI_API_KEY`\n",
    "- `LANGSMITH_API_KEY`"
   ]
  },
  {
   "cell_type": "code",
   "execution_count": 39,
   "metadata": {},
   "outputs": [],
   "source": [
    "from dotenv import load_dotenv\n",
    "import os\n",
    "\n",
    "load_dotenv()\n",
    "\n",
    "os.environ[\"OPENAI_API_KEY\"] = os.getenv(\"OPENAI_API_KEY\")\n",
    "os.environ[\"LANGSMITH_TRACING\"] = \"true\"\n",
    "os.environ[\"LANGSMITH_ENDPOINT\"] = \"https://api.smith.langchain.com\"\n",
    "os.environ[\"LANGSMITH_API_KEY\"] = os.getenv(\"LANGSMITH_API_KEY\")\n",
    "os.environ[\"LANGSMITH_PROJECT\"] = \"langchain-rag\""
   ]
  },
  {
   "cell_type": "markdown",
   "metadata": {},
   "source": [
    "### モデルの作成"
   ]
  },
  {
   "cell_type": "code",
   "execution_count": 40,
   "metadata": {},
   "outputs": [],
   "source": [
    "from langchain.chat_models import init_chat_model\n",
    "\n",
    "llm = init_chat_model(\"gpt-4o-mini\", model_provider=\"openai\")"
   ]
  },
  {
   "cell_type": "markdown",
   "metadata": {},
   "source": [
    "### Embeddingモデルの作成\n",
    "\n",
    "- Embeddings Modelの料金( https://platform.openai.com/docs/pricing#embeddings )"
   ]
  },
  {
   "cell_type": "code",
   "execution_count": 41,
   "metadata": {},
   "outputs": [],
   "source": [
    "from langchain_openai import OpenAIEmbeddings\n",
    "\n",
    "embeddings = OpenAIEmbeddings(model=\"text-embedding-3-small\")"
   ]
  },
  {
   "cell_type": "markdown",
   "metadata": {},
   "source": [
    "### Vector Storeの作成\n",
    "- `InMemoryVectorStore`( https://python.langchain.com/api_reference/core/vectorstores/langchain_core.vectorstores.in_memory.InMemoryVectorStore.html )"
   ]
  },
  {
   "cell_type": "code",
   "execution_count": 42,
   "metadata": {},
   "outputs": [],
   "source": [
    "from langchain_core.vectorstores import InMemoryVectorStore\n",
    "\n",
    "vector_store = InMemoryVectorStore(embeddings)"
   ]
  },
  {
   "cell_type": "markdown",
   "metadata": {},
   "source": [
    "## Indexing"
   ]
  },
  {
   "cell_type": "markdown",
   "metadata": {},
   "source": [
    "### データの取得(Load)\n",
    "- `bs4`はHTMLからデータを取り出すためのパッケージ\n",
    "  - `Beautiful Soup`( https://beautiful-soup-4.readthedocs.io/en/latest/#beautifulsoup )\n",
    "  - `SoupStrainer()`( https://beautiful-soup-4.readthedocs.io/en/latest/#soupstrainer )"
   ]
  },
  {
   "cell_type": "code",
   "execution_count": 43,
   "metadata": {},
   "outputs": [
    {
     "name": "stdout",
     "output_type": "stream",
     "text": [
      "Total characters: 43130\n",
      "\n",
      "\n",
      "      LLM Powered Autonomous Agents\n",
      "    \n",
      "Date: June 23, 2023  |  Estimated Reading Time: 31 min  |  Author: Lilian Weng\n",
      "\n",
      "\n",
      "Building agents with LLM (large language model) as its core controller is a \n"
     ]
    }
   ],
   "source": [
    "import bs4\n",
    "from langchain_community.document_loaders import WebBaseLoader\n",
    "\n",
    "# データの取得\n",
    "loader = WebBaseLoader(\n",
    "    web_paths=(\"https://lilianweng.github.io/posts/2023-06-23-agent/\",),\n",
    "    bs_kwargs=dict(\n",
    "        parse_only=bs4.SoupStrainer(  # HTMLをテキストに変換\n",
    "            class_=(\"post-content\", \"post-title\", \"post-header\")  # 3つのクラスに対応するHTMLタグのテキストのみを取得\n",
    "        )\n",
    "    ),\n",
    ")\n",
    "docs = loader.load()  # 取得したdocはken=1のlist[Document]\n",
    "\n",
    "# データ量の確認\n",
    "assert len(docs) == 1\n",
    "print(f\"Total characters: {len(docs[0].page_content)}\")\n",
    "print(docs[0].page_content[:200])"
   ]
  },
  {
   "cell_type": "markdown",
   "metadata": {},
   "source": [
    "### データの分割(Splitting)\n",
    "- 取得したテキストを分割してモデルのContext Windowに収まるようにする\n",
    "  - How to recursively split text by characters( https://python.langchain.com/docs/how_to/recursive_text_splitter/ )\n",
    "  - `RecursiveCharacterTextSplitter`( https://python.langchain.com/api_reference/text_splitters/character/langchain_text_splitters.character.RecursiveCharacterTextSplitter.html )\n",
    "  - 改行やスペースなどを区切りとしてテキストを分割することで文章の意味を損なわないようにchunkに分割する"
   ]
  },
  {
   "cell_type": "code",
   "execution_count": 44,
   "metadata": {},
   "outputs": [
    {
     "name": "stdout",
     "output_type": "stream",
     "text": [
      "Split blog post into 66 chunks.\n",
      "len(all_splits[0].page_content): 969\n"
     ]
    }
   ],
   "source": [
    "from langchain_text_splitters import RecursiveCharacterTextSplitter\n",
    "\n",
    "text_splitter = RecursiveCharacterTextSplitter(chunk_size=1000, chunk_overlap=200)\n",
    "all_splits = text_splitter.split_documents(docs)\n",
    "\n",
    "print(f\"Split blog post into {len(all_splits)} chunks.\")\n",
    "print(f\"len(all_splits[0].page_content): {len(all_splits[0].page_content)}\")"
   ]
  },
  {
   "cell_type": "markdown",
   "metadata": {},
   "source": [
    "### VectorStoreへのデータ登録(Storing)\n",
    "- chunkに分割したデータを`Embeddingモデル`でベクトル化して`VectorStore`に保存(ベクトル化されたデータのことを`埋め込み(embedding)`という)\n",
    "- `Vector stores`( https://python.langchain.com/docs/concepts/vectorstores/ )\n",
    "  - 保存する際に`Embeddingモデル`でベクトル化が行われる(使用する`Embeddingモデル`はモデルを定義する際に`OpenAIEmbeddings()`作成して設定したもの)\n",
    "- `InMemoryVectorStore`( https://python.langchain.com/api_reference/core/vectorstores/langchain_core.vectorstores.in_memory.InMemoryVectorStore.html )\n",
    "  - メモリ上にベクトルを保存する"
   ]
  },
  {
   "cell_type": "code",
   "execution_count": 45,
   "metadata": {},
   "outputs": [
    {
     "name": "stdout",
     "output_type": "stream",
     "text": [
      "len(document_ids): 66\n",
      "document_ids[:3]: ['3ddb4fe3-bf74-402e-ac0f-4cd6f2795247', 'c3873ee6-28b5-4edf-a92e-d26c121c38da', '981b2c08-f7e5-4827-a196-f253443eb18b']\n"
     ]
    }
   ],
   "source": [
    "# _ = vector_store.add_documents(documents=all_splits)  # 下はデバッグ用にdocument_idsで受けているだけなのでこれでもOK\n",
    "document_ids = vector_store.add_documents(documents=all_splits)\n",
    "print(f\"len(document_ids): {len(document_ids)}\")  # 各要素がchunkのid\n",
    "print(f\"document_ids[:3]: {document_ids[:3]}\")\n",
    "\n"
   ]
  },
  {
   "cell_type": "markdown",
   "metadata": {},
   "source": [
    "## Retrieval and Generation\n",
    "`LangGraph`を使ってRAGのフローを定義する"
   ]
  },
  {
   "cell_type": "markdown",
   "metadata": {},
   "source": [
    "### プロンプトの定義\n",
    "`LangChain Hub`から`rlm/rag-prompt`というRAG用のプロンプトを取得\n",
    "\n",
    "- `LangChain Hub`( https://smith.langchain.com/hub )\n",
    "  - プロンプト、チェーン、エージェントなどの LangChainの操作に役立つコレクション\n",
    "- `\"rlm/rag-prompt\"`( https://smith.langchain.com/hub/rlm/rag-prompt?organizationId=d81a44fa-2d06-41dd-815a-5efa19f66fe7 )"
   ]
  },
  {
   "cell_type": "code",
   "execution_count": 46,
   "metadata": {},
   "outputs": [
    {
     "name": "stdout",
     "output_type": "stream",
     "text": [
      "You are an assistant for question-answering tasks. Use the following pieces of retrieved context to answer the question. If you don't know the answer, just say that you don't know. Use three sentences maximum and keep the answer concise.\n",
      "Question: {question} \n",
      "Context: {context} \n",
      "Answer:\n"
     ]
    }
   ],
   "source": [
    "from langchain import hub\n",
    "\n",
    "prompt = hub.pull(\"rlm/rag-prompt\")\n",
    "\n",
    "# テスト\n",
    "# 取得したpromptを表示してみる\n",
    "example_messages = prompt.invoke(\n",
    "    {\"context\": \"{context}\", \"question\": \"{question}\"}\n",
    ").to_messages()\n",
    "assert len(example_messages) == 1\n",
    "print(example_messages[0].content)"
   ]
  },
  {
   "cell_type": "markdown",
   "metadata": {},
   "source": [
    "### Stateクラスの定義\n",
    "ここでは`TypedDict`を使って`State`クラスを定義する。  \n",
    "`Pydantic`を使って`State`クラスを定義することも可能。  \n"
   ]
  },
  {
   "cell_type": "code",
   "execution_count": 47,
   "metadata": {},
   "outputs": [],
   "source": [
    "from langchain_core.documents import Document\n",
    "from typing_extensions import List, TypedDict\n",
    "\n",
    "\n",
    "class State(TypedDict):\n",
    "    question: str\n",
    "    context: List[Document]\n",
    "    answer: str"
   ]
  },
  {
   "cell_type": "markdown",
   "metadata": {},
   "source": [
    "### ノードの定義\n",
    "ノードは`State`を引数に取り、更新結果の差分を`dict`で返す。\n",
    "\n",
    "### retrieve関数の定義(ノード)"
   ]
  },
  {
   "cell_type": "code",
   "execution_count": 48,
   "metadata": {},
   "outputs": [],
   "source": [
    "from typing import Any\n",
    "\n",
    "def retrieve(state: State) -> dict[str, Any]:\n",
    "    retrived_docs = vector_store.similarity_search(state[\"question\"])  # VectorStoreから類似度検索\n",
    "    return {\"context\": retrived_docs}"
   ]
  },
  {
   "cell_type": "markdown",
   "metadata": {},
   "source": [
    "### generate関数の定義(ノード)"
   ]
  },
  {
   "cell_type": "code",
   "execution_count": 52,
   "metadata": {},
   "outputs": [],
   "source": [
    "def generate(state: State) -> dict:\n",
    "    docs_context = \"\\n\\n\".join(doc.page_content for doc in state[\"context\"])  # contextとしてVectorStoreから取得したデータを改行区切りで結合\n",
    "    \n",
    "    # (chainで表現しないパターン)\n",
    "    # messages = prompt.invoke({\"question\": state[\"question\"], \"context\": docs_context}) # プロンプトを穴埋め\n",
    "    # response = llm.invoke(messages)  # LLMにリクエスト\n",
    "\n",
    "    # (chainで表現するパターン)\n",
    "    chain = prompt | llm\n",
    "    response = chain.invoke({\"question\": state[\"question\"], \"context\": docs_context})\n",
    "\n",
    "    return {\"answer\": response.content}"
   ]
  },
  {
   "cell_type": "markdown",
   "metadata": {},
   "source": [
    "### コンパイル\n",
    "\n",
    "- `StateGraph`( https://langchain-ai.github.io/langgraph/reference/graphs/# )\n",
    "\n",
    "- `StateGraph(State)`: グラフの初期化\n",
    "- `add_sequence()`: ノードをシーケンスとして追加\n",
    "- `add_edge(START, \"retrieve\")`: エッジを追加\n",
    "  - `set_entry_point(\"retrieve\")`と同じ( https://langchain-ai.github.io/langgraph/reference/graphs/#langgraph.graph.state.StateGraph.set_entry_point )"
   ]
  },
  {
   "cell_type": "code",
   "execution_count": null,
   "metadata": {},
   "outputs": [],
   "source": [
    "from langgraph.graph import START, StateGraph\n",
    "\n",
    "# graph_builder = StateGraph(State).add_sequence([retrieve, genxerate])\n",
    "graph_builder = StateGraph(State).add_sequence([(\"retrieve\", retrieve), (\"generate\", generate)])  # ノード名を指定して追加\n",
    "\n",
    "# graph_builder.add_edge(START, \"retrieve\")\n",
    "graph_builder.set_entry_point(\"retrieve\")\n",
    "\n",
    "graph = graph_builder.compile()"
   ]
  },
  {
   "cell_type": "markdown",
   "metadata": {},
   "source": [
    "## 実行"
   ]
  },
  {
   "cell_type": "code",
   "execution_count": 58,
   "metadata": {},
   "outputs": [
    {
     "name": "stdout",
     "output_type": "stream",
     "text": [
      "Task decomposition is the process of breaking down a complex task into smaller, manageable steps or subgoals. It can be achieved using various methods, such as simple prompting, task-specific instructions, or human inputs. This approach allows for clearer planning and enhances performance on difficult tasks by promoting step-by-step reasoning.\n"
     ]
    }
   ],
   "source": [
    "response = graph.invoke({\"question\": \"What is Task Decomposition?\"})\n",
    "print(response[\"answer\"])"
   ]
  },
  {
   "cell_type": "markdown",
   "metadata": {},
   "source": [
    "## グラフの可視化(Mac)\n",
    "\n",
    "```bash\n",
    "brew install graphviz\n",
    "brew install pkg-config\n",
    "```"
   ]
  },
  {
   "cell_type": "markdown",
   "metadata": {},
   "source": [
    "`dot`を仮想環境の`bin`にコピー\n",
    "\n",
    "```bash\n",
    "cp /opt/homebrew/bin/dot $VIRTUAL_ENV/bin/dot\n",
    "```"
   ]
  },
  {
   "cell_type": "code",
   "execution_count": 74,
   "metadata": {},
   "outputs": [
    {
     "name": "stdout",
     "output_type": "stream",
     "text": [
      "Requirement already satisfied: pygraphviz in /Users/keita/.pyenv/versions/LangChain_RAG/lib/python3.13/site-packages (1.14)\n",
      "\n",
      "\u001b[1m[\u001b[0m\u001b[34;49mnotice\u001b[0m\u001b[1;39;49m]\u001b[0m\u001b[39;49m A new release of pip is available: \u001b[0m\u001b[31;49m24.3.1\u001b[0m\u001b[39;49m -> \u001b[0m\u001b[32;49m25.0.1\u001b[0m\n",
      "\u001b[1m[\u001b[0m\u001b[34;49mnotice\u001b[0m\u001b[1;39;49m]\u001b[0m\u001b[39;49m To update, run: \u001b[0m\u001b[32;49mpip install --upgrade pip\u001b[0m\n",
      "Note: you may need to restart the kernel to use updated packages.\n"
     ]
    }
   ],
   "source": [
    "%pip install --config-settings=\"--global-option=build_ext\" \\\n",
    "            --config-settings=\"--global-option=-I$(/opt/homebrew/bin/brew --prefix graphviz)/include/\" \\\n",
    "            --config-settings=\"--global-option=-L$(/opt/homebrew/bin/brew --prefix graphviz)/lib/\" \\\n",
    "            pygraphviz"
   ]
  },
  {
   "cell_type": "code",
   "execution_count": 73,
   "metadata": {},
   "outputs": [
    {
     "data": {
      "image/png": "[encoded data removed]",
      "text/plain": [
       "<IPython.core.display.Image object>"
      ]
     },
     "execution_count": 73,
     "metadata": {},
     "output_type": "execute_result"
    }
   ],
   "source": [
    "from IPython.display import Image\n",
    "\n",
    "Image(graph.get_graph().draw_png())"
   ]
  }
 ],
 "metadata": {
  "kernelspec": {
   "display_name": "LangChain_RAG",
   "language": "python",
   "name": "python3"
  },
  "language_info": {
   "codemirror_mode": {
    "name": "ipython",
    "version": 3
   },
   "file_extension": ".py",
   "mimetype": "text/x-python",
   "name": "python",
   "nbconvert_exporter": "python",
   "pygments_lexer": "ipython3",
   "version": "3.13.2"
  }
 },
 "nbformat": 4,
 "nbformat_minor": 2
}
