{
 "cells": [
  {
   "cell_type": "markdown",
   "metadata": {},
   "source": [
    "# ApproveToolCall(Human in the loop)\n",
    "Agentがツールを実行する際にユーザーの承認を求める例\n"
   ]
  },
  {
   "cell_type": "markdown",
   "metadata": {},
   "source": [
    "## セットアップ"
   ]
  },
  {
   "cell_type": "code",
   "execution_count": 36,
   "metadata": {},
   "outputs": [
    {
     "name": "stdout",
     "output_type": "stream",
     "text": [
      "Note: you may need to restart the kernel to use updated packages.\n"
     ]
    }
   ],
   "source": [
    "%pip install -qU langgraph==0.4.5 langchain-community langchain-openai tavily-python python-dotenv"
   ]
  },
  {
   "cell_type": "markdown",
   "metadata": {},
   "source": [
    "## 環境変数"
   ]
  },
  {
   "cell_type": "code",
   "execution_count": 37,
   "metadata": {},
   "outputs": [],
   "source": [
    "import os\n",
    "from dotenv import load_dotenv\n",
    "\n",
    "load_dotenv()\n",
    "os.environ[\"OPENAI_API_KEY\"] = os.getenv(\"OPENAI_API_KEY\")\n",
    "os.environ[\"TAVILY_API_KEY\"] = os.getenv(\"TAVILY_API_KEY\")\n",
    "os.environ[\"LANGSMITH_TRACING\"] = \"true\"\n",
    "os.environ[\"LANGSMITH_ENDPOINT\"] = \"https://api.smith.langchain.com\"\n",
    "os.environ[\"LANGSMITH_API_KEY\"] = os.getenv(\"LANGSMITH_API_KEY\")\n",
    "os.environ[\"LANGSMITH_PROJECT\"] = \"langchain-study\""
   ]
  },
  {
   "cell_type": "markdown",
   "metadata": {},
   "source": [
    "## 実装\n",
    "- [ReAct Agent Scratch](https://langchain-ai.github.io/langgraph/how-tos/react-agent-from-scratch/)に対してHILを組み込むイメージ。\n",
    "\n",
    "`interrupt()`を使ってユーザーに入力を求める。\n",
    "- `interrupt()`(https://langchain-ai.github.io/langgraph/reference/types/#langgraph.types.interrupt)\n",
    "  - ユーザーの入力を待つためにグラフを中断\n",
    "\n",
    "- `Command`(https://langchain-ai.github.io/langgraph/concepts/low_level/#command)\n",
    "  - 状態を更新すると同時に、次に実行するNodeを指定する\n",
    "  - 各Nodeが`Command`オブジェクトとして以下を返す。\n",
    "    - 処理を渡す先のNode\n",
    "    - ステータスの更新差分"
   ]
  },
  {
   "cell_type": "code",
   "execution_count": 38,
   "metadata": {},
   "outputs": [],
   "source": [
    "from typing import Annotated\n",
    "from typing_extensions import TypedDict, Literal\n",
    "from langchain_core.messages import AnyMessage, SystemMessage\n",
    "from langchain_core.tools import tool\n",
    "from langchain_openai import ChatOpenAI\n",
    "from langgraph.graph import StateGraph, START, END\n",
    "from langgraph.types import interrupt, Command\n",
    "from langgraph.graph.message import add_messages\n",
    "from langgraph.checkpoint.memory import MemorySaver\n",
    "from langchain_community.retrievers import TavilySearchAPIRetriever\n",
    "\n",
    "class Status(TypedDict):\n",
    "    \"\"\"State for the agent.\"\"\"\n",
    "    messages: Annotated[list[AnyMessage], add_messages]\n",
    "\n",
    "@tool\n",
    "def web_search(query: str) -> str:\n",
    "   \"\"\"Web検索を行うツール\"\"\"\n",
    "   retriver = TavilySearchAPIRetriever(k=5) # TavilyのRetriverを定義(kは検索件数)\n",
    "   search_result = retriver.invoke(query)\n",
    "   return \"\\n\\n\".join(doc.page_content for doc in search_result)\n",
    "\n",
    "tools = [web_search]\n",
    "tools_by_name = {tool.name: tool for tool in tools}   # ツール名とツールのdictを作成\n",
    "\n",
    "# モデルの定義\n",
    "model = ChatOpenAI(model=\"gpt-4o-mini\", temperature=0)\n",
    "model=model.bind_tools(tools)\n",
    "\n",
    "\n",
    "# Nodeの定義\n",
    "\n",
    "# Model NOdeの定義\n",
    "def model_node(state: Status):\n",
    "    system_prompt = SystemMessage(\n",
    "        \"\"\"You are a helpful assistant. When you attempt to call an external tool and the execution of that tool is denied (either by the user or due to some other issue), you must **not** attempt to perform the task yourself. Instead, inform the user that the tool execution has failed and provide any relevant details about the failure, such as the reason for the denial (e.g., user rejection, permission issues, etc.).\n",
    "\n",
    "Your response should include:\n",
    "- A clear message that the tool execution failed.\n",
    "- The reason for the failure, if available (e.g., \"The user denied the request\", \"Permission issues\", etc.).\n",
    "- Do not try to execute the task on your own, as it is not allowed when the tool execution fails.\n",
    "- Offer alternative actions, if possible, for the user to proceed (e.g., \"Please check your permissions\", \"Try again later\", etc.).\n",
    "\n",
    "If the tool is successfully executed, you can proceed with your usual task of processing the result.\"\"\"\n",
    "    )\n",
    "    response = model.invoke([system_prompt] + state[\"messages\"])\n",
    "    return {\"messages\": [response]}\n",
    "\n",
    "# Tool Nodeの定義(tool_callに含まれるツールを実行する)\n",
    "def tool_node(state: Status):\n",
    "    new_messages = []\n",
    "    tool_calls = state[\"messages\"][-1].tool_calls\n",
    "    for tool_call in tool_calls:\n",
    "        tool = tools_by_name[tool_call[\"name\"]]\n",
    "        result = tool.invoke(tool_call[\"args\"])\n",
    "        new_messages.append(\n",
    "            {\n",
    "                \"role\": \"tool\",\n",
    "                \"name\": tool_call[\"name\"],\n",
    "                \"content\": result,\n",
    "                \"tool_call_id\": tool_call[\"id\"],\n",
    "            }\n",
    "        )\n",
    "    return {\"messages\": new_messages}\n",
    "\n",
    "# Human Review Nodeの定義(ユーザーの承認を求める)\n",
    "def human_review_node(state: Status) -> Command[Literal[\"model_node\", \"tool_node\"]]:\n",
    "    last_message = state[\"messages\"][-1]\n",
    "    tool_call = last_message.tool_calls[-1]\n",
    "\n",
    "    # ここでグラフを中断してユーザーの承認を求める\n",
    "    human_review = interrupt(\n",
    "        {\n",
    "            \"question\": \"Can I run this tool?(y/n)\",\n",
    "            \"tool_call\": tool_call,\n",
    "        }\n",
    "    )\n",
    "    approval = human_review[\"approval\"]\n",
    "\n",
    "    # review_actionがYまたはyの場合はtool_nodeに遷移してツールを実行\n",
    "    if approval in ['Y', 'y']:\n",
    "        return Command(goto=\"tool_node\")\n",
    "    # その他の場合はToolMessageにツール実行拒否のメッセージを追加してmodel_nodeに遷移\n",
    "    else:\n",
    "        new_messages=[\n",
    "            {\n",
    "                \"role\": \"tool\",\n",
    "                \"name\": tool_call[\"name\"],\n",
    "                \"content\": \"Tool execution was denied by the user..\",\n",
    "                \"tool_call_id\": tool_call[\"id\"],\n",
    "            },\n",
    "            # { \n",
    "            #     \"role\": \"ai\",\n",
    "            #     \"content\": \"Tool call rejected.\",\n",
    "            # }\n",
    "        ]\n",
    "        return Command(goto=\"model_node\", update={\"messages\": new_messages})\n",
    "\n",
    "# グラフの定義\n",
    "workflow = StateGraph(Status)\n",
    "\n",
    "# Nodeの追加\n",
    "workflow.add_node(\"model_node\", model_node)\n",
    "workflow.add_node(\"tool_node\", tool_node)\n",
    "workflow.add_node(\"human_review_node\", human_review_node)\n",
    "\n",
    "# Edge関数の定義\n",
    "# Model Node実行後のmessagesにtool_callが含まれているかを確認\n",
    "def route_after_llm(state) -> Literal[\"END\", \"human_review_node\"]:\n",
    "    if len(state[\"messages\"][-1].tool_calls) == 0:\n",
    "        return \"END\"\n",
    "    else:\n",
    "        return \"human_review_node\"\n",
    "\n",
    "# Edgeの追加\n",
    "workflow.add_edge(START, \"model_node\")\n",
    "\n",
    "workflow.add_conditional_edges(\n",
    "    \"model_node\", \n",
    "    route_after_llm,\n",
    "    {\n",
    "        \"human_review_node\": \"human_review_node\",\n",
    "        \"END\": END,\n",
    "    }\n",
    ")\n",
    "workflow.add_edge(\"tool_node\", \"model_node\")\n",
    "\n",
    "# メモリの追加\n",
    "memory = MemorySaver()\n",
    "\n",
    "# グラフのコンパイル\n",
    "graph = workflow.compile(checkpointer=memory)"
   ]
  },
  {
   "cell_type": "markdown",
   "metadata": {},
   "source": [
    "## グラフの描画"
   ]
  },
  {
   "cell_type": "code",
   "execution_count": 39,
   "metadata": {},
   "outputs": [
    {
     "data": {
      "image/png": "[encoded data removed]",
      "text/plain": [
       "<IPython.core.display.Image object>"
      ]
     },
     "execution_count": 39,
     "metadata": {},
     "output_type": "execute_result"
    }
   ],
   "source": [
    "from IPython.display import Image\n",
    "\n",
    "Image(graph.get_graph().draw_png())"
   ]
  },
  {
   "cell_type": "markdown",
   "metadata": {},
   "source": [
    "## 実行"
   ]
  },
  {
   "cell_type": "code",
   "execution_count": 40,
   "metadata": {},
   "outputs": [
    {
     "name": "stdout",
     "output_type": "stream",
     "text": [
      "静岡の郷土料理には、地域の風土や食文化を反映した多彩な料理があります。以下は代表的な郷土料理のいくつかです：\n",
      "\n",
      "1. **黒はんぺん** - 魚のすり身を使ったはんぺんで、フライや煮物として楽しむことが多いです。\n",
      "2. **とろろ汁** - 山芋をすりおろしたものを使った汁物で、さっぱりとした味わいが特徴です。\n",
      "3. **金目鯛の煮付け** - 駿河湾で獲れる金目鯛を甘辛く煮付けた料理で、地元の名物です。\n",
      "4. **安倍川もち** - もちをあんこやきな粉で包んだお菓子で、地元の名物として親しまれています。\n",
      "5. **ところてん** - 天草から作られる寒天を使った料理で、さっぱりとした味わいが楽しめます。\n",
      "\n",
      "静岡の郷土料理は、地元の新鮮な魚介類や野菜、わさびなどを使ったものが多く、地域の特性を生かした料理が豊富です。興味があれば、ぜひ地元の食材を使った料理を試してみてください。\n"
     ]
    }
   ],
   "source": [
    "from langgraph.types import Command\n",
    "import random\n",
    "\n",
    "inputs = {\"messages\": [(\"user\",\"静岡の郷土料理は？\")]}\n",
    "\n",
    "# Thread\n",
    "num = random.randint(1, 10)\n",
    "thread = {\"configurable\": {\"thread_id\": num}}\n",
    "\n",
    "# グラフの実行\n",
    "result = graph.invoke(inputs, config=thread)\n",
    "\n",
    "# グラフがinterruptで中断されている場合はユーザーに入力を促す\n",
    "while \"__interrupt__\" in result and result[\"__interrupt__\"] is not None:\n",
    "\n",
    "    # GraphInterruptインスタンスのInterruptからvalueを取得し確認メッセージを生成\n",
    "    interrupt_message = result[\"__interrupt__\"][-1].value\n",
    "    confirmation_message = f'Run {interrupt_message[\"tool_call\"][\"name\"]}()\\n{interrupt_message[\"tool_call\"][\"args\"]}\\n{interrupt_message[\"question\"]}'\n",
    "\n",
    "    # ユーザーの標準入力への入力をhuman_review[\"approval\"]に格納\n",
    "    user_approval = input(confirmation_message)\n",
    "    result = graph.invoke(Command(resume={\"approval\": user_approval}), config=thread)\n",
    "\n",
    "    # print(result[\"messages\"][-1].content)\n",
    "\n",
    "print(result[\"messages\"][-1].content)"
   ]
  }
 ],
 "metadata": {
  "kernelspec": {
   "display_name": "LangChainStudy",
   "language": "python",
   "name": "python3"
  },
  "language_info": {
   "codemirror_mode": {
    "name": "ipython",
    "version": 3
   },
   "file_extension": ".py",
   "mimetype": "text/x-python",
   "name": "python",
   "nbconvert_exporter": "python",
   "pygments_lexer": "ipython3",
   "version": "3.13.3"
  }
 },
 "nbformat": 4,
 "nbformat_minor": 2
}
