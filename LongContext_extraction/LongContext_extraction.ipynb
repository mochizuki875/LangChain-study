{
 "cells": [
  {
   "cell_type": "markdown",
   "id": "edad0c50",
   "metadata": {},
   "source": [
    "# LongContext Extraction\n",
    "超長いコンテキストを少しずつLLMに渡しながら全体を要約する。\n",
    "- 題材\n",
    "  - [How to handle long text when doing extraction](https://python.langchain.com/docs/how_to/extraction_long_text)"
   ]
  },
  {
   "cell_type": "markdown",
   "id": "d2b5b095",
   "metadata": {},
   "source": [
    "## パッケージインストール"
   ]
  },
  {
   "cell_type": "code",
   "execution_count": 29,
   "id": "912c544b",
   "metadata": {},
   "outputs": [
    {
     "name": "stdout",
     "output_type": "stream",
     "text": [
      "Note: you may need to restart the kernel to use updated packages.\n",
      "Note: you may need to restart the kernel to use updated packages.\n"
     ]
    }
   ],
   "source": [
    "%pip install -qU langchain-community lxml faiss-cpu langchain-openai\n",
    "%pip install -qU unstructured"
   ]
  },
  {
   "cell_type": "markdown",
   "id": "ba23c699",
   "metadata": {},
   "source": [
    "## 環境変数読み込み"
   ]
  },
  {
   "cell_type": "code",
   "execution_count": 30,
   "id": "c00a9f14",
   "metadata": {},
   "outputs": [],
   "source": [
    "from dotenv import load_dotenv\n",
    "import os\n",
    "\n",
    "load_dotenv()\n",
    "os.environ[\"OPENAI_API_KEY\"] = os.getenv(\"OPENAI_API_KEY\")\n",
    "os.environ[\"LANGSMITH_TRACING\"] = \"true\"\n",
    "os.environ[\"LANGSMITH_ENDPOINT\"] = \"https://api.smith.langchain.com\"\n",
    "os.environ[\"LANGSMITH_API_KEY\"] = os.getenv(\"LANGSMITH_API_KEY\")\n",
    "os.environ[\"LANGSMITH_PROJECT\"] = \"langchain-study\""
   ]
  },
  {
   "cell_type": "markdown",
   "id": "229fc777",
   "metadata": {},
   "source": [
    "## Contextの元となる情報の取得\n",
    "インターネット上のWebページを取得してLangChainのDocumentインスタンスに変換する。"
   ]
  },
  {
   "cell_type": "code",
   "execution_count": 44,
   "id": "3ff4dbce",
   "metadata": {},
   "outputs": [
    {
     "name": "stdout",
     "output_type": "stream",
     "text": [
      "79186\n"
     ]
    }
   ],
   "source": [
    "import re\n",
    "\n",
    "import requests\n",
    "from langchain_community.document_loaders import BSHTMLLoader\n",
    "\n",
    "# インターネットからWebページを取得\n",
    "response = requests.get(\"https://en.wikipedia.org/wiki/Car\")\n",
    "\n",
    "# ローカルファイルに出力\n",
    "with open(\"car.html\", \"w\", encoding=\"utf-8\") as f:\n",
    "    f.write(response.text)\n",
    "\n",
    "# ローカルファイルを読み込んでDocumentインスタンスを作成\n",
    "loader = BSHTMLLoader(\"car.html\")\n",
    "document = loader.load()[0]\n",
    "\n",
    "# 2行以上の空行を1行にまとめる\n",
    "document.page_content = re.sub(\"\\n\\n+\", \"\\n\", document.page_content)\n",
    "\n",
    "print(len(document.page_content))\n",
    "\n",
    "# print(document.page_content[:100])"
   ]
  },
  {
   "cell_type": "markdown",
   "id": "482cb8a8",
   "metadata": {},
   "source": [
    "### 参考  \n",
    "ファイルとして保存せずURLからWebページを直接取得するパターン\n",
    "\n",
    "https://python.langchain.com/docs/integrations/document_loaders/url/"
   ]
  },
  {
   "cell_type": "code",
   "execution_count": 45,
   "id": "69ed1d8f",
   "metadata": {},
   "outputs": [
    {
     "name": "stdout",
     "output_type": "stream",
     "text": [
      "75209\n"
     ]
    }
   ],
   "source": [
    "from langchain_community.document_loaders import UnstructuredURLLoader\n",
    "\n",
    "urls = [\n",
    "    \"https://en.wikipedia.org/wiki/Car\",\n",
    "]\n",
    "loader = UnstructuredURLLoader(urls=urls)\n",
    "document = loader.load()[0]\n",
    "\n",
    "# 2行以上の空行を1行にまとめる\n",
    "document.page_content = re.sub(\"\\n\\n+\", \"\\n\", document.page_content)\n",
    "\n",
    "print(len(document.page_content))\n",
    "# print(document.page_content[3000:4000])"
   ]
  },
  {
   "cell_type": "markdown",
   "id": "71a89df1",
   "metadata": {},
   "source": [
    "### chunkに分割"
   ]
  },
  {
   "cell_type": "code",
   "execution_count": 32,
   "id": "c58bd587",
   "metadata": {},
   "outputs": [],
   "source": [
    "from langchain_text_splitters import TokenTextSplitter\n",
    "\n",
    "text_splitter = TokenTextSplitter(\n",
    "    # Controls the size of each chunk\n",
    "    chunk_size=2000,\n",
    "    # Controls overlap between chunks\n",
    "    chunk_overlap=20,\n",
    ")\n",
    "\n",
    "texts = text_splitter.split_text(document.page_content)"
   ]
  },
  {
   "cell_type": "code",
   "execution_count": 33,
   "id": "775b58a9",
   "metadata": {},
   "outputs": [
    {
     "name": "stdout",
     "output_type": "stream",
     "text": [
      "<class 'list'>\n",
      "10\n",
      "<class 'str'>\n",
      "3508\n"
     ]
    }
   ],
   "source": [
    "print(type(texts))\n",
    "print(len(texts))\n",
    "print(type(texts[0]))\n",
    "print(len(texts[0]))"
   ]
  },
  {
   "cell_type": "markdown",
   "id": "88baa641",
   "metadata": {},
   "source": [
    "## Schemaの定義\n",
    "Chunk毎にどのような形の要約を作成するか定義する"
   ]
  },
  {
   "cell_type": "code",
   "execution_count": 34,
   "id": "327dc637",
   "metadata": {},
   "outputs": [],
   "source": [
    "from typing import List, Optional\n",
    "from langchain_core.prompts import ChatPromptTemplate, MessagesPlaceholder\n",
    "from pydantic import BaseModel, Field\n",
    "\n",
    "# 要約の1要素のschema\n",
    "class ExtractionSchema(BaseModel):\n",
    "    \"\"\"Information about a development in the history of cars.\"\"\"\n",
    "\n",
    "    year: int = Field(\n",
    "        ..., description=\"The year when there was an important historic development.\"\n",
    "    )\n",
    "    description: str = Field(\n",
    "        ..., description=\"What happened in this year? What was the development?\"\n",
    "    )\n",
    "    evidence: str = Field(\n",
    "        ...,\n",
    "        description=\"Repeat in verbatim the sentence(s) from which the year and description information were extracted\",\n",
    "    )\n",
    "\n",
    "\n",
    "# 要約全体のschema\n",
    "# 要約はExtractionSchemaのlistとして作成する\n",
    "class ExtractionData(BaseModel):\n",
    "    \"\"\"Extracted information about key developments in the history of cars.\"\"\"\n",
    "\n",
    "    extraction_result: List[ExtractionSchema]"
   ]
  },
  {
   "cell_type": "markdown",
   "id": "2070b3d3",
   "metadata": {},
   "source": [
    "## extractorの定義"
   ]
  },
  {
   "cell_type": "code",
   "execution_count": 35,
   "id": "c5f41aed",
   "metadata": {},
   "outputs": [],
   "source": [
    "from langchain_openai import ChatOpenAI\n",
    "\n",
    "\n",
    "model = ChatOpenAI(model=\"gpt-4o-mini\", temperature=0)\n",
    "\n",
    "prompt = ChatPromptTemplate.from_messages(\n",
    "    [\n",
    "        (\n",
    "            \"system\",\n",
    "            \"You are an expert at identifying key historic development in text. \"\n",
    "            \"Only extract important historic developments. Extract nothing if no important information can be found in the text.\",\n",
    "        ),\n",
    "        (\"human\", \"{text}\"),\n",
    "    ]\n",
    ")\n",
    "\n",
    "\n",
    "\n",
    "extractor = prompt | model.with_structured_output(\n",
    "    schema=ExtractionData,\n",
    "    include_raw=False,\n",
    ")"
   ]
  },
  {
   "cell_type": "markdown",
   "id": "999e4683",
   "metadata": {},
   "source": [
    "## extractorの実行\n",
    "chunkを渡してextractorを実行することで、各chunkの内容を`ExtractionData`のshcemaに従って要約する。"
   ]
  },
  {
   "cell_type": "code",
   "execution_count": 36,
   "id": "7a519227",
   "metadata": {},
   "outputs": [],
   "source": [
    "# ここでは検証として、最初の3つのテキストチャンクのみを処理\n",
    "first_few = texts[:3]\n",
    "\n",
    "results = extractor.batch(\n",
    "    [{\"text\": text} for text in first_few],\n",
    "    {\"max_concurrency\": 5},  # limit the concurrency by passing max concurrency!\n",
    ")"
   ]
  },
  {
   "cell_type": "markdown",
   "id": "32aeb5b0",
   "metadata": {},
   "source": [
    "実行結果をlistにまとめる。"
   ]
  },
  {
   "cell_type": "code",
   "execution_count": 37,
   "id": "2ab39c3b",
   "metadata": {},
   "outputs": [
    {
     "data": {
      "text/plain": [
       "[ExtractionSchema(year=1769, description='The first steam-powered road vehicle was built by the French inventor Nicolas-Joseph Cugnot.', evidence='The French inventor Nicolas-Joseph Cugnot built the first steam-powered road vehicle in 1769.'),\n",
       " ExtractionSchema(year=1808, description='The first internal combustion-powered automobile was designed and constructed by the Swiss inventor François Isaac de Rivaz.', evidence='the Swiss inventor François Isaac de Rivaz designed and constructed the first internal combustion-powered automobile in 1808.'),\n",
       " ExtractionSchema(year=1886, description='The modern car was invented when the German inventor Carl Benz patented his Benz Patent-Motorwagen.', evidence='the modern car—a practical, marketable automobile for everyday use—was invented in 1886, when the German inventor Carl Benz patented his Benz Patent-Motorwagen.'),\n",
       " ExtractionSchema(year=1901, description='The Oldsmobile Curved Dash was widely considered the first mass-produced car.', evidence='The 1901 Oldsmobile Curved Dash and the 1908 Ford Model T, both American cars, are widely considered the first mass-produced.'),\n",
       " ExtractionSchema(year=1908, description='The Ford Model T was widely considered the first mass-affordable car.', evidence='The 1901 Oldsmobile Curved Dash and the 1908 Ford Model T, both American cars, are widely considered the first mass-affordable.'),\n",
       " ExtractionSchema(year=1886, description='Carl Benz patented his Benz Patent-Motorwagen, regarded as the birth year of the modern car.', evidence='the year 1886 is regarded as the birth year of the modern car—a practical, marketable automobile for everyday use—when the German Carl Benz patented his Benz Patent-Motorwagen; he is generally acknowledged as the inventor of the car.'),\n",
       " ExtractionSchema(year=1888, description=\"Bertha Benz undertook the first road trip by car to prove the road-worthiness of her husband's invention.\", evidence=\"In August 1888, Bertha Benz, the wife and business partner of Carl Benz, undertook the first road trip by car, to prove the road-worthiness of her husband's invention.\"),\n",
       " ExtractionSchema(year=1896, description='Benz designed and patented the first internal-combustion flat engine, called boxermotor.', evidence='In 1896, Benz designed and patented the first internal-combustion flat engine, called boxermotor.'),\n",
       " ExtractionSchema(year=1897, description='The first motor car in central Europe and one of the first factory-made cars in the world was produced by Czech company Nesselsdorfer Wagenbau.', evidence='The first motor car in central Europe and one of the first factory-made cars in the world, was produced by Czech company Nesselsdorfer Wagenbau (later renamed to Tatra) in 1897, the Präsident automobil.'),\n",
       " ExtractionSchema(year=1890, description='Daimler and Maybach founded Daimler Motoren Gesellschaft (DMG) in Cannstatt.', evidence='Daimler and Maybach founded Daimler Motoren Gesellschaft (DMG) in Cannstatt in 1890, and sold their first car in 1892 under the brand name Daimler.')]"
      ]
     },
     "execution_count": 37,
     "metadata": {},
     "output_type": "execute_result"
    }
   ],
   "source": [
    "extraction_result = []\n",
    "\n",
    "for extraction in results:\n",
    "    extraction_result.extend(extraction.extraction_result)\n",
    "\n",
    "extraction_result[:10]"
   ]
  }
 ],
 "metadata": {
  "kernelspec": {
   "display_name": "LangChainStudy",
   "language": "python",
   "name": "python3"
  },
  "language_info": {
   "codemirror_mode": {
    "name": "ipython",
    "version": 3
   },
   "file_extension": ".py",
   "mimetype": "text/x-python",
   "name": "python",
   "nbconvert_exporter": "python",
   "pygments_lexer": "ipython3",
   "version": "3.13.3"
  }
 },
 "nbformat": 4,
 "nbformat_minor": 5
}
