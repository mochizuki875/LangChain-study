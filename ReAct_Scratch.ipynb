{
 "cells": [
  {
   "cell_type": "markdown",
   "metadata": {},
   "source": [
    "# ReAct Agent Scratch\n",
    "- 題材\n",
    "  - How to create a ReAct agent from scratch(https://langchain-ai.github.io/langgraph/how-tos/react-agent-from-scratch/)\n",
    "\n",
    "[Prebuilt ReAct Agent](https://langchain-ai.github.io/langgraph/how-tos/#prebuilt-react-agent)の`create_react_agent()`を使用せずに`ReAct Agent`を作成する。\n",
    "\n",
    "\n",
    "![](./img/react.png)"
   ]
  },
  {
   "cell_type": "markdown",
   "metadata": {},
   "source": [
    "## パッケージインストール"
   ]
  },
  {
   "cell_type": "code",
   "execution_count": 90,
   "metadata": {},
   "outputs": [
    {
     "name": "stdout",
     "output_type": "stream",
     "text": [
      "Note: you may need to restart the kernel to use updated packages.\n"
     ]
    }
   ],
   "source": [
    "%pip install -qU langgraph langchain-openai python-dotenv"
   ]
  },
  {
   "cell_type": "markdown",
   "metadata": {},
   "source": [
    "## 環境変数読み込み"
   ]
  },
  {
   "cell_type": "code",
   "execution_count": 91,
   "metadata": {},
   "outputs": [],
   "source": [
    "from dotenv import load_dotenv\n",
    "import os\n",
    "\n",
    "load_dotenv()\n",
    "os.environ[\"OPENAI_API_KEY\"] = os.getenv(\"OPENAI_API_KEY\")\n",
    "os.environ[\"LANGSMITH_TRACING\"] = \"true\"\n",
    "os.environ[\"LANGSMITH_ENDPOINT\"] = \"https://api.smith.langchain.com\"\n",
    "os.environ[\"LANGSMITH_API_KEY\"] = os.getenv(\"LANGSMITH_API_KEY\")\n",
    "os.environ[\"LANGSMITH_PROJECT\"] = \"langchain-study\""
   ]
  },
  {
   "cell_type": "markdown",
   "metadata": {},
   "source": [
    "## Statusの定義\n",
    "`Annotated`で`add_messages`を指定することで、Nodeで生成されたmessageを`messages`に追加する。\n",
    "\n",
    "- reducer(https://langchain-ai.github.io/langgraph/concepts/low_level/#reducers)"
   ]
  },
  {
   "cell_type": "code",
   "execution_count": 92,
   "metadata": {},
   "outputs": [],
   "source": [
    "from typing import (\n",
    "    Annotated,\n",
    "    Sequence,\n",
    "    TypedDict,\n",
    ")\n",
    "from langchain_core.messages import BaseMessage\n",
    "from langgraph.graph.message import add_messages\n",
    "\n",
    "\n",
    "class Status(TypedDict):\n",
    "    \"\"\"The state of the agent.\"\"\"\n",
    "\n",
    "    messages: Annotated[Sequence[BaseMessage], add_messages]"
   ]
  },
  {
   "cell_type": "markdown",
   "metadata": {},
   "source": [
    "## モデルの定義"
   ]
  },
  {
   "cell_type": "code",
   "execution_count": 93,
   "metadata": {},
   "outputs": [],
   "source": [
    "from langchain_openai import ChatOpenAI\n",
    "\n",
    "model = ChatOpenAI(model=\"gpt-4o-mini\", temperature=0)"
   ]
  },
  {
   "cell_type": "markdown",
   "metadata": {},
   "source": [
    "## ツールの用意\n",
    "`@tool`デコレーションを付与することで各関数が`BaseTool`を継承した`Tool`として扱われる。\n",
    "\n",
    "- `BaseTool`(https://api.python.langchain.com/en/latest/tools/langchain_core.tools.BaseTool.html)\n",
    "- `Tools`( https://python.langchain.com/docs/concepts/tools/ )\n",
    "\n",
    "ここではダミー関数として2つの関数を実装している。\n",
    "- `get_weather`: 都市の情報を渡すと天気を返す\n",
    "- `search_restaurant`: 料理名を渡すとおすすめのレストランを返す"
   ]
  },
  {
   "cell_type": "code",
   "execution_count": 94,
   "metadata": {},
   "outputs": [],
   "source": [
    "from langchain_core.tools import tool\n",
    "\n",
    "@tool\n",
    "def get_weather(city: str) -> str:\n",
    "    \"\"\"天候に関する情報を取得するツール\"\"\"\n",
    "    \n",
    "    if city == \"東京\":\n",
    "        return \"東京の天気は晴れです。\"\n",
    "    elif city == \"北海道\":\n",
    "        return \"北海道の天気は曇りです。\"\n",
    "    else:\n",
    "        return \"データがありません\"\n",
    "\n",
    "@tool\n",
    "def search_restaurant(dish: str) -> str:\n",
    "    \"\"\"レストランに関する情報を取得するツール\"\"\"\n",
    "    if dish == \"ハンバーガー\":\n",
    "        return \"マクドナルド。\"\n",
    "    elif dish == \"ラーメン\":\n",
    "        return \"二郎。\"\n",
    "    else:\n",
    "        return \"データがありません\"\n",
    "\n",
    "tools = [get_weather, search_restaurant]\n",
    "tools_by_name = {tool.name: tool for tool in tools}   # ツール名とツールのdictを作成"
   ]
  },
  {
   "cell_type": "markdown",
   "metadata": {},
   "source": [
    "## モデルに対してツールを追加\n"
   ]
  },
  {
   "cell_type": "code",
   "execution_count": 95,
   "metadata": {},
   "outputs": [],
   "source": [
    "model = model.bind_tools(tools)"
   ]
  },
  {
   "cell_type": "markdown",
   "metadata": {},
   "source": [
    "## Model Nodeの定義\n",
    "- LLMに問い合わせを行うNodeを定義\n",
    "  - `Tool Calling`: LLMはユーザーからの質問を踏まえて使用すべきツールを選択する(ツールの実行はしない)\n",
    "  - ユーザーへの回答作成: `Tool Node`で実際にツールを実行した結果(`ToolMessage`に格納)を踏まえて回答を作成する\n",
    "\n",
    "\n",
    "- `Tool Calling`(`Function Calling`)(https://python.langchain.com/docs/concepts/tool_calling/)\n",
    "  - OpenAIでは`Function Calling`とも呼ばれる(https://platform.openai.com/docs/guides/function-calling/example-use-cases?api-mode=responses)\n",
    "  - ユーザーからの質問を踏まえて使用すべきツールを選択する\n",
    "  - LLMに目標を達成するためのツール選択を行わせる\n",
    "  - LLMはあくまでツールの情報を踏まえて実行すべきツールとその引数を決めるだけ(実行はしない)"
   ]
  },
  {
   "cell_type": "code",
   "execution_count": 96,
   "metadata": {},
   "outputs": [],
   "source": [
    "from langchain_core.messages import SystemMessage\n",
    "from langchain_core.runnables import RunnableConfig\n",
    "\n",
    "def model_node(state: Status, config: RunnableConfig):\n",
    "    system_prompt = SystemMessage(\n",
    "        \"You are a helpful AI assistant, please respond to the users query to the best of your ability!\"\n",
    "    )\n",
    "    response = model.invoke([system_prompt] + state[\"messages\"], config)\n",
    "\n",
    "    return {\"messages\": [response]}"
   ]
  },
  {
   "cell_type": "markdown",
   "metadata": {},
   "source": [
    "## Tool Nodeの定義\n",
    "- `Model Node`での`Tool Calling`の結果(`AIMessage`の`tool_calls`に格納)を踏まえてツールを実行する。\n",
    "  - `Status`の`messages`から最新の`message`(LLMからの回答)を取得\n",
    "  - `message`に含まれる`tool_calls`を取得し、そこに含まれる`name`と`args`を取得する\n",
    "  - `BaseTool`の`invoke`メソッドを使用してツールを実行する\n",
    "  - 実行結果を`ToolMessage`に変換し、`outputs`に追加する\n",
    "  - `outputs`を`Status`の`messages`に追加する\n",
    "\n",
    "- `ToolNode()`でも代替可能\n",
    "  - `ToolNode()`: https://langchain-ai.github.io/langgraph/reference/agents/#langgraph.prebuilt.chat_agent_executor.create_react_agent"
   ]
  },
  {
   "cell_type": "code",
   "execution_count": 97,
   "metadata": {},
   "outputs": [],
   "source": [
    "import json\n",
    "from langchain_core.messages import ToolMessage\n",
    "\n",
    "def tool_node(state: Status):\n",
    "    outputs = []\n",
    "    for tool_call in state[\"messages\"][-1].tool_calls:\n",
    "        tool_result = tools_by_name[tool_call[\"name\"]].invoke(tool_call[\"args\"])  # ツールの実行(BaseToolのinvokeメソッドを使用)\n",
    "        outputs.append(\n",
    "            ToolMessage(\n",
    "                content=json.dumps(tool_result),\n",
    "                name=tool_call[\"name\"],\n",
    "                tool_call_id=tool_call[\"id\"],\n",
    "            )\n",
    "        )\n",
    "    return {\"messages\": outputs}"
   ]
  },
  {
   "cell_type": "markdown",
   "metadata": {},
   "source": [
    "## Graphの定義"
   ]
  },
  {
   "cell_type": "markdown",
   "metadata": {},
   "source": [
    "### Graphの初期化"
   ]
  },
  {
   "cell_type": "code",
   "execution_count": 98,
   "metadata": {},
   "outputs": [],
   "source": [
    "from langgraph.graph import StateGraph\n",
    "\n",
    "workflow = StateGraph(Status)"
   ]
  },
  {
   "cell_type": "markdown",
   "metadata": {},
   "source": [
    "### Nodeの追加"
   ]
  },
  {
   "cell_type": "code",
   "execution_count": 99,
   "metadata": {},
   "outputs": [
    {
     "data": {
      "text/plain": [
       "<langgraph.graph.state.StateGraph at 0x77377b7016a0>"
      ]
     },
     "execution_count": 99,
     "metadata": {},
     "output_type": "execute_result"
    }
   ],
   "source": [
    "workflow.add_node(\"model_node\", model_node)\n",
    "workflow.add_node(\"tool_node\", tool_node)"
   ]
  },
  {
   "cell_type": "markdown",
   "metadata": {},
   "source": [
    "### LLMからの応答に応じて分岐を行うための関数を定義\n",
    "- LLMからの応答に`tool_calls`が含まれているかどうかを確認し、含まれていれば`continue`、含まれていなければ`end`を返す"
   ]
  },
  {
   "cell_type": "code",
   "execution_count": 100,
   "metadata": {},
   "outputs": [],
   "source": [
    "from langgraph.graph import END\n",
    "\n",
    "def should_continue(state: Status):\n",
    "    messages = state[\"messages\"]\n",
    "    last_message = messages[-1]\n",
    "    if not last_message.tool_calls:\n",
    "        return END\n",
    "    else:\n",
    "        return \"tool_node\""
   ]
  },
  {
   "cell_type": "markdown",
   "metadata": {},
   "source": [
    "### Edgeの追加"
   ]
  },
  {
   "cell_type": "code",
   "execution_count": 101,
   "metadata": {},
   "outputs": [
    {
     "data": {
      "text/plain": [
       "<langgraph.graph.state.StateGraph at 0x77377b7016a0>"
      ]
     },
     "execution_count": 101,
     "metadata": {},
     "output_type": "execute_result"
    }
   ],
   "source": [
    "from langgraph.graph import START\n",
    "\n",
    "workflow.add_edge(START, \"model_node\")\n",
    "\n",
    "workflow.add_conditional_edges(  # 分岐処理を行うEdgeを追加\n",
    "    \"model_node\",  # 始点: model_node\n",
    "    should_continue,  # should_endの戻り値に応じて次のNodeを決定\n",
    "    [\"tool_node\", END]  # 分岐先: tool_node, END\n",
    ")\n",
    "\n",
    "workflow.add_edge(\"tool_node\", \"model_node\")"
   ]
  },
  {
   "cell_type": "markdown",
   "metadata": {},
   "source": [
    "### Graphのコンパイル"
   ]
  },
  {
   "cell_type": "code",
   "execution_count": 102,
   "metadata": {},
   "outputs": [],
   "source": [
    "graph = workflow.compile()"
   ]
  },
  {
   "cell_type": "markdown",
   "metadata": {},
   "source": [
    "## グラフの実行"
   ]
  },
  {
   "cell_type": "code",
   "execution_count": 105,
   "metadata": {},
   "outputs": [
    {
     "name": "stdout",
     "output_type": "stream",
     "text": [
      "=== 全てのメッセージを表示 ===\n",
      "HumanMessage: content='東京でラーメンが食べたいな。天気も心配だ。' additional_kwargs={} response_metadata={} id='970d973e-d3b1-40bd-9331-0f8a71e8ca1e'\n",
      "AIMessage: content='' additional_kwargs={'tool_calls': [{'id': 'call_Cj5Kr0PfRp182FAoWNPFwazn', 'function': {'arguments': '{\"dish\": \"ラーメン\"}', 'name': 'search_restaurant'}, 'type': 'function'}, {'id': 'call_YVnMJS3iCL8P1BhNsXXPDhb6', 'function': {'arguments': '{\"city\": \"東京\"}', 'name': 'get_weather'}, 'type': 'function'}], 'refusal': None} response_metadata={'token_usage': {'completion_tokens': 49, 'prompt_tokens': 116, 'total_tokens': 165, 'completion_tokens_details': {'accepted_prediction_tokens': 0, 'audio_tokens': 0, 'reasoning_tokens': 0, 'rejected_prediction_tokens': 0}, 'prompt_tokens_details': {'audio_tokens': 0, 'cached_tokens': 0}}, 'model_name': 'gpt-4o-mini-2024-07-18', 'system_fingerprint': 'fp_0392822090', 'id': 'chatcmpl-BRKLaCnqohoMfeWaYSGZ3FRNFuHK5', 'finish_reason': 'tool_calls', 'logprobs': None} id='run-83032e4d-5e1e-44ad-81db-70eff5ac22e6-0' tool_calls=[{'name': 'search_restaurant', 'args': {'dish': 'ラーメン'}, 'id': 'call_Cj5Kr0PfRp182FAoWNPFwazn', 'type': 'tool_call'}, {'name': 'get_weather', 'args': {'city': '東京'}, 'id': 'call_YVnMJS3iCL8P1BhNsXXPDhb6', 'type': 'tool_call'}] usage_metadata={'input_tokens': 116, 'output_tokens': 49, 'total_tokens': 165, 'input_token_details': {'audio': 0, 'cache_read': 0}, 'output_token_details': {'audio': 0, 'reasoning': 0}}\n",
      "ToolMessage: content='\"\\\\u4e8c\\\\u90ce\\\\u3002\"' name='search_restaurant' id='2943e56c-c568-431f-a664-519dda402412' tool_call_id='call_Cj5Kr0PfRp182FAoWNPFwazn'\n",
      "ToolMessage: content='\"\\\\u6771\\\\u4eac\\\\u306e\\\\u5929\\\\u6c17\\\\u306f\\\\u6674\\\\u308c\\\\u3067\\\\u3059\\\\u3002\"' name='get_weather' id='0d2288c8-fd72-47be-8d60-794719fa946d' tool_call_id='call_YVnMJS3iCL8P1BhNsXXPDhb6'\n",
      "AIMessage: content='東京でおすすめのラーメン店は「二郎」です。天気は晴れていますので、ラーメンを楽しむには良い日ですね！' additional_kwargs={'refusal': None} response_metadata={'token_usage': {'completion_tokens': 38, 'prompt_tokens': 225, 'total_tokens': 263, 'completion_tokens_details': {'accepted_prediction_tokens': 0, 'audio_tokens': 0, 'reasoning_tokens': 0, 'rejected_prediction_tokens': 0}, 'prompt_tokens_details': {'audio_tokens': 0, 'cached_tokens': 0}}, 'model_name': 'gpt-4o-mini-2024-07-18', 'system_fingerprint': 'fp_0392822090', 'id': 'chatcmpl-BRKLbh3wbpQbyu2fEvjggciTIfQii', 'finish_reason': 'stop', 'logprobs': None} id='run-6afdc104-b661-4b76-a87b-a69c1c7a9eef-0' usage_metadata={'input_tokens': 225, 'output_tokens': 38, 'total_tokens': 263, 'input_token_details': {'audio': 0, 'cache_read': 0}, 'output_token_details': {'audio': 0, 'reasoning': 0}}\n",
      "=== 最終的な回答を表示 ===\n",
      "東京でおすすめのラーメン店は「二郎」です。天気は晴れていますので、ラーメンを楽しむには良い日ですね！\n"
     ]
    }
   ],
   "source": [
    "inputs = {\"messages\": [(\"user\", \"東京でラーメンが食べたいな。天気も心配だ。\")]}  # get_weather()とsearch_restaurant()が呼び出される\n",
    "\n",
    "result=graph.invoke(inputs)\n",
    "\n",
    "print(\"=== 全てのメッセージを表示 ===\")\n",
    "for message in result[\"messages\"]:\n",
    "    print(f\"{message.__class__.__name__}: {message}\")\n",
    "\n",
    "print(\"=== 最終的な回答を表示 ===\")\n",
    "print(result[\"messages\"][-1].content)"
   ]
  },
  {
   "cell_type": "markdown",
   "metadata": {},
   "source": [
    "## グラフの描画"
   ]
  },
  {
   "cell_type": "code",
   "execution_count": 104,
   "metadata": {},
   "outputs": [
    {
     "data": {
      "image/png": "[encoded data removed]",
      "text/plain": [
       "<IPython.core.display.Image object>"
      ]
     },
     "execution_count": 104,
     "metadata": {},
     "output_type": "execute_result"
    }
   ],
   "source": [
    "from IPython.display import Image\n",
    "\n",
    "Image(graph.get_graph().draw_png())"
   ]
  }
 ],
 "metadata": {
  "kernelspec": {
   "display_name": "LangChainStudy",
   "language": "python",
   "name": "python3"
  },
  "language_info": {
   "codemirror_mode": {
    "name": "ipython",
    "version": 3
   },
   "file_extension": ".py",
   "mimetype": "text/x-python",
   "name": "python",
   "nbconvert_exporter": "python",
   "pygments_lexer": "ipython3",
   "version": "3.12.9"
  }
 },
 "nbformat": 4,
 "nbformat_minor": 2
}
