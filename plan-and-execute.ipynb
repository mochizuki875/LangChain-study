{
 "cells": [
  {
   "cell_type": "markdown",
   "id": "79b5811c-1074-495f-9722-8325b5e717d3",
   "metadata": {},
   "source": [
    "# Plan-and-Execute\n",
    "ユーザーからの質問に対して実行計画を作成し、その計画に従ってタスクを実行する例\n",
    "\n",
    "- 題材\n",
    "  - Plan-and-Execute(https://langchain-ai.github.io/langgraph/tutorials/plan-and-execute/plan-and-execute/)\n",
    "\n",
    "![plan-and-execute](./img/plan-and-execute.png)"
   ]
  },
  {
   "cell_type": "markdown",
   "id": "a44a72d6-7e0c-4478-9d20-4c09000420a8",
   "metadata": {},
   "source": [
    "## セットアップ"
   ]
  },
  {
   "cell_type": "code",
   "execution_count": 1,
   "id": "b451b58a-89bd-424f-8c06-0d9fe325e01b",
   "metadata": {},
   "outputs": [],
   "source": [
    "%%capture --no-stderr\n",
    "%pip install --qU langgraph langchain-community langchain-openai tavily-python python-dotenv"
   ]
  },
  {
   "cell_type": "markdown",
   "id": "35f267b0-98db-4a59-8b2c-a23f795576ff",
   "metadata": {},
   "source": [
    "## 環境変数"
   ]
  },
  {
   "cell_type": "code",
   "execution_count": 2,
   "id": "ce438281-08d5-4804-afe7-e4089f7b016b",
   "metadata": {},
   "outputs": [],
   "source": [
    "import os\n",
    "from dotenv import load_dotenv\n",
    "\n",
    "load_dotenv()\n",
    "os.environ[\"OPENAI_API_KEY\"] = os.getenv(\"OPENAI_API_KEY\")\n",
    "os.environ[\"TAVILY_API_KEY\"] = os.getenv(\"TAVILY_API_KEY\")\n",
    "os.environ[\"LANGSMITH_TRACING\"] = \"true\"\n",
    "os.environ[\"LANGSMITH_ENDPOINT\"] = \"https://api.smith.langchain.com\"\n",
    "os.environ[\"LANGSMITH_API_KEY\"] = os.getenv(\"LANGSMITH_API_KEY\")\n",
    "os.environ[\"LANGSMITH_PROJECT\"] = \"langchain-study\""
   ]
  },
  {
   "cell_type": "markdown",
   "id": "24f39999",
   "metadata": {},
   "source": [
    "## モデルの定義"
   ]
  },
  {
   "cell_type": "code",
   "execution_count": 3,
   "id": "9d107549",
   "metadata": {},
   "outputs": [],
   "source": [
    "from langchain_openai import ChatOpenAI\n",
    "# llm = ChatOpenAI(model=\"gpt-4o-mini\", temperature=0)  # これだと推論終わらない\n",
    "llm = ChatOpenAI(model=\"gpt-4.1-mini\", temperature=0)\n",
    "# llm = ChatOpenAI(model=\"gpt-4-turbo-preview\", temperature=0)  # Tutorialではこれ使ってるけど料金高いのでやめた"
   ]
  },
  {
   "cell_type": "markdown",
   "id": "5cf66804-44b2-4904-b1a7-17ad70b551f5",
   "metadata": {},
   "source": [
    "## Stateの定義(Status)\n",
    "GraphのNode間でデータ共有を行うための`Status`を定義する。\n",
    "- `input`: ユーザーからの入力\n",
    "- `response`: 最終的な回答\n",
    "に加え、\n",
    "- `plan`：現在の実行計画(`Step`のリストで定義)\n",
    "- `past_steps`：これまでの実行した`Step`とその結果の`tuple`のリストとして定義 \n",
    "  - `Annotation`で`add`を指定することでリストの要素が追加されるようにする(デフォルトは`set`)\n",
    "をフィールドに持たせる。\n",
    "\n",
    "`State`は`TypedDict`または`Pydantic`の`BaseModel`を継承したクラスで定義する。\n",
    "\n",
    "- State(https://langchain-ai.github.io/langgraph/concepts/low_level/#state)\n",
    "- Define state(https://langchain-ai.github.io/langgraph/how-tos/state-reducers/#define-state)\n"
   ]
  },
  {
   "cell_type": "code",
   "execution_count": 4,
   "id": "8eeeaeea-8f10-4fbe-8e24-4e1a2381a009",
   "metadata": {},
   "outputs": [],
   "source": [
    "import operator\n",
    "from typing import Annotated, List, Tuple\n",
    "from typing_extensions import TypedDict\n",
    "\n",
    "class Status(TypedDict):\n",
    "    input: str\n",
    "    plan: List[str]  # PlanをStepのリストとして定義\n",
    "    past_steps: Annotated[List[Tuple], operator.add]  # 実行したstepとその結果の組み合わせをtupleとしてListに追加していく\n",
    "    response: str"
   ]
  },
  {
   "cell_type": "markdown",
   "id": "1dbd770a-9941-40a9-977e-4d55359eee21",
   "metadata": {},
   "source": [
    "## Planning Stepの定義\n",
    "ユーザーからの質問に対して、LLMに`Plan`を作成させるための`Chain`を定義する。  "
   ]
  },
  {
   "cell_type": "markdown",
   "id": "e45a4dd4",
   "metadata": {},
   "source": [
    "### Planクラスの定義\n",
    "LLMが作成した実行計画を格納するための`Plan`クラスを定義する。"
   ]
  },
  {
   "cell_type": "code",
   "execution_count": 5,
   "id": "4a88626d-6dfd-4488-87f0-a9a0dd6da44c",
   "metadata": {},
   "outputs": [],
   "source": [
    "from pydantic import BaseModel, Field\n",
    "\n",
    "class Plan(BaseModel):\n",
    "    \"\"\"タスクの実行計画\"\"\"\n",
    "\n",
    "    steps: List[str] = Field(description=\"実行すべきタスクを実行する順番に並べる\")"
   ]
  },
  {
   "cell_type": "markdown",
   "id": "98edf2f0",
   "metadata": {},
   "source": [
    "### Plannerの定義\n",
    "ユーザーからの質問に対して実行計画(`Plan`)を作成する`Chain`を定義する。  \n",
    "`with_structured_output()`により、LLMには`Plan`クラスのインスタンスとして回答を返させる。\n",
    "\n",
    "### (補足)ChatPromptTemplate\n",
    "\n",
    "- `ChatPromptTemplate.from_messages()`(https://python.langchain.com/api_reference/core/prompts/langchain_core.prompts.chat.ChatPromptTemplate.html#langchain_core.prompts.chat.ChatPromptTemplate.from_messages)\n",
    "- `ChatPromptTemplate`(https://python.langchain.com/api_reference/core/prompts/langchain_core.prompts.chat.ChatPromptTemplate.html#langchain_core.prompts.chat.ChatPromptTemplate)\n",
    "  - `Placeholder`を含める場合はvalueはtupleのリスト(=`ChatPromptTemplate`型)である必要がある"
   ]
  },
  {
   "cell_type": "code",
   "execution_count": 6,
   "id": "ec7b1867-1ea3-4df3-9a98-992a1c32ec49",
   "metadata": {},
   "outputs": [],
   "source": [
    "from langchain_core.prompts import ChatPromptTemplate\n",
    "\n",
    "planner_prompt = ChatPromptTemplate.from_messages(\n",
    "    [\n",
    "        (\n",
    "        \"system\",\n",
    "            \"\"\"与えられた目標を達成するためのステップバイステップの実行計画を作成してください。 \\\n",
    "この計画は個々のタスクから成り、正しく実行されると正しい回答を得られます。余分なステップを追加しないでください。 \\\n",
    "最終ステップの結果は最終的な回答になります。各ステップには必要なすべての情報が含まれていることを確認してください。ステップをスキップしないでください。\"\"\",\n",
    "        ),\n",
    "        (\"placeholder\", \"{messages}\"),  # placeholderを指定した場合、messagesはtupleのリスト(=ChatPromptTemplate型)である必要がある\n",
    "    ]\n",
    ")\n",
    "\n",
    "planner = planner_prompt | llm.with_structured_output(Plan)  # Planを作成するChainを定義"
   ]
  },
  {
   "cell_type": "markdown",
   "id": "b5985ddf",
   "metadata": {},
   "source": [
    "### (動作検証)Planner Chainの実行\n",
    "`LLM`に`Plan`を作成させる。\n"
   ]
  },
  {
   "cell_type": "code",
   "execution_count": 7,
   "id": "67ce37b7-e089-479b-bcb8-c3f5d9874613",
   "metadata": {},
   "outputs": [
    {
     "data": {
      "text/plain": [
       "Plan(steps=['現在の全豪オープンの最新の優勝者を特定する。', 'その優勝者の出身地を調べる。', '調べた出身地を回答として提示する。'])"
      ]
     },
     "execution_count": 7,
     "metadata": {},
     "output_type": "execute_result"
    }
   ],
   "source": [
    "planner.invoke({\"messages\": [(\"user\", \"現在の全豪オープン優勝者の出身地はどこですか？\")]})"
   ]
  },
  {
   "cell_type": "markdown",
   "id": "d709bb1c",
   "metadata": {},
   "source": [
    "### Planner Chainを実行する関数を定義\n",
    "`planner`を実行して質問に対する`Plan`を作成する。"
   ]
  },
  {
   "cell_type": "code",
   "execution_count": 8,
   "id": "1a5b0d2e",
   "metadata": {},
   "outputs": [],
   "source": [
    "async def planning_node(state: Status):\n",
    "    planner_response = await planner.ainvoke({\"messages\": [(\"user\", state[\"input\"])]})  # Chainの引数にはStatusのinputを渡す\n",
    "    return {\"plan\": planner_response.steps}  # Planの作成結果をStatusの差分(plan)として返却"
   ]
  },
  {
   "cell_type": "markdown",
   "id": "8f2d0734",
   "metadata": {},
   "source": [
    "## ReAct Agentの定義\n",
    "与えられた質問に関する調査を行うReAct Agentを定義する。"
   ]
  },
  {
   "cell_type": "markdown",
   "id": "6c5fb09a-0311-44c2-b243-d0e80de78902",
   "metadata": {},
   "source": [
    "### ツールの定義\n",
    "### Web検索ツール(tavily_tool)\n",
    "`Tavily`でWeb検索を行うツールを作成する。\n",
    "\n",
    "`LangChain`では`BaseTool`を継承した`tools`のライブラリ(`langchain_community.tools`)が提供されており、ここではその中から`Tavily`でWeb検索を行う`TavilySearchResults`を使用する。\n",
    "\n",
    "- `langchain_community.tools`(https://python.langchain.com/api_reference/community/tools.html)\n",
    "- `BaseTool`(https://python.langchain.com/api_reference/core/tools/langchain_core.tools.base.BaseTool.html#langchain_core.tools.base.BaseTool)\n",
    "- `TavilySearchResults`(https://python.langchain.com/api_reference/community/tools/langchain_community.tools.tavily_search.tool.TavilySearchResults.html)"
   ]
  },
  {
   "cell_type": "code",
   "execution_count": 9,
   "id": "25b9ec62-0675-4715-811c-9b32c635b22f",
   "metadata": {},
   "outputs": [],
   "source": [
    "from langchain_community.tools.tavily_search import TavilySearchResults\n",
    "\n",
    "tools = [TavilySearchResults(max_results=10)]"
   ]
  },
  {
   "cell_type": "markdown",
   "id": "3dcda478-fa80-4e3e-bb35-0f622fe73a31",
   "metadata": {},
   "source": [
    "### Agentの作成\n",
    "タスクを実行するAgentとして`ReAct Agent`を定義する。\n",
    "\n",
    "`create_react_agent()`を使用してグラフを作成することで、`ReAct`に沿ったグラフを作成できる。  \n",
    "\n",
    "- `create_react_agent()`( https://langchain-ai.github.io/langgraph/reference/prebuilt/#langgraph.prebuilt.chat_agent_executor.create_react_agent )"
   ]
  },
  {
   "cell_type": "code",
   "execution_count": 10,
   "id": "72d233ca-1dbf-4b43-b680-b3bf39e3691f",
   "metadata": {},
   "outputs": [],
   "source": [
    "from langgraph.prebuilt import create_react_agent\n",
    "\n",
    "prompt = \"You are a helpful assistant.\"\n",
    "react_agent = create_react_agent(llm, tools, prompt=prompt)\n",
    "\n",
    "# なくても良い\n",
    "# from langchain.agents import AgentExecutor\n",
    "# react_agent_executor = AgentExecutor(agent=react_agent, tools=tools, verbose=True)"
   ]
  },
  {
   "cell_type": "markdown",
   "id": "395d98d9",
   "metadata": {},
   "source": [
    "### Agentを実行する関数の定義\n",
    "`PlanExecute`から`plan`を取得し、1つ目のステップを実行する。"
   ]
  },
  {
   "cell_type": "code",
   "execution_count": 11,
   "id": "c5970ac2",
   "metadata": {},
   "outputs": [],
   "source": [
    "async def agent_node(state: Status):\n",
    "    plan = state[\"plan\"]  # 現在のPlanを取得\n",
    "    plan_str = \"\\n\".join(f\"{i+1}. {step}\" for i, step in enumerate(plan))  # Planを箇条書きの文字列に変換\n",
    "    tasked_step = plan[0]  # 現在のPlanの最初のStepを取得\n",
    "\n",
    "    # 現在のPlanに対し、最初のStepの実行を指示するプロンプトを作成\n",
    "    agent_prompt = f\"\"\"タスクの実行計画:\\n\\n{plan_str}\\n\\n実行計画の1つ目のステップを実行してください。ステップとして定義された以外のことは行わないでください。\\n\\nStep {1}, {tasked_step}\"\"\"  \n",
    "    \n",
    "    agent_response = await react_agent.ainvoke({\"messages\": [(\"user\", agent_prompt)]})\n",
    "\n",
    "    return {  # Agentの回答をStatusの差分(past_steps)として返却(実行したStepとその結果のtuple)\n",
    "        \"past_steps\": [(tasked_step, agent_response[\"messages\"][-1].content)],\n",
    "    }"
   ]
  },
  {
   "cell_type": "markdown",
   "id": "6e09ad9d-6f90-4bdc-bb43-b1ce94517c29",
   "metadata": {},
   "source": [
    "## Re-Planning Stepの定義\n",
    "現在の`Plan`の最初の`Step`を実行した結果(`Status.past_steps`)を踏まえて回答(`Status.response`)の作成または実行計画(`Status.plan`)の再作成を行う。"
   ]
  },
  {
   "cell_type": "markdown",
   "id": "bae5beea",
   "metadata": {},
   "source": [
    "### Responseクラスの定義\n",
    "LLMからの回答を格納するための`Response`クラスを定義する。\n",
    "実際にLLMからの回答はこの後定義する`Act`クラスで受け取っており、`Response`クラスはその中でユーザーへの回答を格納するための型として使用されている。"
   ]
  },
  {
   "cell_type": "code",
   "execution_count": 12,
   "id": "a81f216a",
   "metadata": {},
   "outputs": [],
   "source": [
    "class Response(BaseModel):\n",
    "    \"\"\"ユーザーへの回答\"\"\"\n",
    "\n",
    "    response: str = Field(description=\"ユーザーへの回答\")"
   ]
  },
  {
   "cell_type": "markdown",
   "id": "147ea937",
   "metadata": {},
   "source": [
    "### Actクラスの定義\n",
    "LLMの回答を格納するための`Act`クラス(ユーザーに回答(`Response`)を返すか、新たに実行計画(`Plan`)を作成するかを決定する)を定義する。  \n",
    "`Union`を用いることで、`Act.action`には`Response`クラスと`Plan`クラスのいずれかを含められるようにしている。  \n",
    "(この結果に応じて`Graph`の`Edge`で分岐処理を行う)\n",
    "\n",
    "- `Response`クラス：ユーザーに対する回答\n",
    "- `Plan`クラス：新たに作成した計画"
   ]
  },
  {
   "cell_type": "code",
   "execution_count": 13,
   "id": "91a65314",
   "metadata": {},
   "outputs": [],
   "source": [
    "from typing import Union\n",
    "\n",
    "class Act(BaseModel):\n",
    "    \"\"\"実行するアクション\"\"\"\n",
    "\n",
    "    action: Union[Response, Plan] = Field(\n",
    "        description=\"実行するアクション。目標に対する最終的な結論が得られた場合はその内容をResponseに登録してください。\"\n",
    "        \"結論を得るためにさらにステップを実行する場合は、Planに再計画した実行計画を登録して下さい。\"\n",
    "    )"
   ]
  },
  {
   "cell_type": "markdown",
   "id": "5d8cf868",
   "metadata": {},
   "source": [
    "### Re-Planner Chainの定義"
   ]
  },
  {
   "cell_type": "code",
   "execution_count": 14,
   "id": "ec2d12cc-016a-44d1-aa08-4c5ce1e8fe2a",
   "metadata": {},
   "outputs": [],
   "source": [
    "replanner_prompt = ChatPromptTemplate.from_template(\n",
    "    \"\"\"与えられた目標を達成するためのステップバイステップの計画を作成してください。 \\\n",
    "この計画は個々のタスクから成り、正しく実行されると正しい回答を得られます。余分なステップを追加しないでください。 \\\n",
    "最終ステップの結果は最終的な回答になります。各ステップには必要なすべての情報が含まれていることを確認してください。ステップをスキップしないでください。\n",
    "\n",
    "与えられた目標:\n",
    "{input}\n",
    "\n",
    "目標達成に向けた実行計画:\n",
    "{plan}\n",
    "\n",
    "現在までに実行したステップとその結果:\n",
    "{past_steps}\n",
    "\n",
    "更新した計画を作成してください。もしもさらにステップを実行する必要がない場合は、その結果を返してください。それ以外の場合は実行計画を更新してください。\n",
    "必要なステップのみを実行計画に追加してください。前に実行したステップを計画に含めないでください。\"\"\"\n",
    ")\n",
    "\n",
    "\n",
    "replanner = replanner_prompt | llm.with_structured_output(Act)"
   ]
  },
  {
   "cell_type": "markdown",
   "id": "8fa0e962",
   "metadata": {},
   "source": [
    "### Re-Planner Chainを実行する関数の定義\n",
    "`Chain`実行時の引数として`Status`クラスのインスタンスを渡すことで、プロンプト(`replanner_prompt`)の各Placeholderに`Status`クラスのインスタンスの各フィールドの値が展開される。  \n",
    "`Replanner Chain`を実行してレスポンスの型が`Response`クラスの場合は回答を返し、`Plan`クラスの場合は見直し後の`Plan.steps`を返す。  \n",
    "`isinstance()`によってインスタンスのクラスを判定する。"
   ]
  },
  {
   "cell_type": "code",
   "execution_count": 15,
   "id": "41b92239",
   "metadata": {},
   "outputs": [],
   "source": [
    "async def replanning_node(state: Status):  # replannerを実行して回答、または見直し後のPlanを返す\n",
    "    replanner_response = await replanner.ainvoke(state)\n",
    "    \n",
    "    if isinstance(replanner_response.action, Response):\n",
    "        return {\"response\": replanner_response.action.response}\n",
    "    else:\n",
    "        return {\"plan\": replanner_response.action.steps}"
   ]
  },
  {
   "cell_type": "markdown",
   "id": "859abd13-6ba0-45ad-b341-e652dd5f755b",
   "metadata": {},
   "source": [
    "## Graphの定義"
   ]
  },
  {
   "cell_type": "markdown",
   "id": "cd9dbf08",
   "metadata": {},
   "source": [
    "### Graphの初期化"
   ]
  },
  {
   "cell_type": "code",
   "execution_count": 16,
   "id": "cb8f9fef",
   "metadata": {},
   "outputs": [],
   "source": [
    "from langgraph.graph import StateGraph\n",
    "workflow = StateGraph(Status)"
   ]
  },
  {
   "cell_type": "markdown",
   "id": "9afc710e",
   "metadata": {},
   "source": [
    "### Nodeの追加"
   ]
  },
  {
   "cell_type": "code",
   "execution_count": 17,
   "id": "e954cea0-5ccc-46c2-a27b-f5b7185b597d",
   "metadata": {},
   "outputs": [
    {
     "data": {
      "text/plain": [
       "<langgraph.graph.state.StateGraph at 0x70b0a4f8fd90>"
      ]
     },
     "execution_count": 17,
     "metadata": {},
     "output_type": "execute_result"
    }
   ],
   "source": [
    "from langgraph.graph import START\n",
    "\n",
    "workflow.add_node(\"planning_node\", planning_node)\n",
    "workflow.add_node(\"agent_node\", agent_node)\n",
    "workflow.add_node(\"replanning_node\", replanning_node)"
   ]
  },
  {
   "cell_type": "markdown",
   "id": "af1808a5",
   "metadata": {},
   "source": [
    "### Stateの値に応じて分岐を行うための関数を定義"
   ]
  },
  {
   "cell_type": "code",
   "execution_count": 18,
   "id": "6c8e0dad-bcea-4c9a-8922-0d820892e2d0",
   "metadata": {},
   "outputs": [],
   "source": [
    "from langgraph.graph import END\n",
    "\n",
    "def should_end(state: Status):\n",
    "    if \"response\" in state and state[\"response\"]:  # Statusにresponseが含まれている場合は終了\n",
    "        return END\n",
    "    else:  # Statusにresponseが含まれていない場合はagent Nodeに戻る(見直し後のPlanに基づいて実行される)\n",
    "        return \"agent_node\""
   ]
  },
  {
   "cell_type": "markdown",
   "id": "e481e4ba",
   "metadata": {},
   "source": [
    "### Edgeの追加"
   ]
  },
  {
   "cell_type": "code",
   "execution_count": 19,
   "id": "4bfb78bd",
   "metadata": {},
   "outputs": [
    {
     "data": {
      "text/plain": [
       "<langgraph.graph.state.StateGraph at 0x70b0a4f8fd90>"
      ]
     },
     "execution_count": 19,
     "metadata": {},
     "output_type": "execute_result"
    }
   ],
   "source": [
    "workflow.add_edge(START, \"planning_node\")\n",
    "workflow.add_edge(\"planning_node\", \"agent_node\")\n",
    "workflow.add_edge(\"agent_node\", \"replanning_node\")\n",
    "\n",
    "workflow.add_conditional_edges(  # 分岐処理を行うEdgeを追加\n",
    "    \"replanning_node\",  # 始点: replanning_step Node\n",
    "    should_end,  # should_endの戻り値に応じて次のNodeを決定\n",
    "    [\"agent_node\", END],  # 遷移先: agent NodeまたはEND\n",
    ")"
   ]
  },
  {
   "cell_type": "markdown",
   "id": "e3794f8f",
   "metadata": {},
   "source": [
    "### Graphのコンパイル"
   ]
  },
  {
   "cell_type": "code",
   "execution_count": 20,
   "id": "588fcba2",
   "metadata": {},
   "outputs": [],
   "source": [
    "graph = workflow.compile()"
   ]
  },
  {
   "cell_type": "markdown",
   "id": "8ab135f7",
   "metadata": {},
   "source": [
    "## Graphの実行"
   ]
  },
  {
   "cell_type": "code",
   "execution_count": 21,
   "id": "b8ac1f67-e87a-427c-b4f7-44351295b788",
   "metadata": {},
   "outputs": [
    {
     "name": "stdout",
     "output_type": "stream",
     "text": [
      "{'plan': ['ホンダの創業者の名前を確認する。', 'ホンダの創業者の出身地を調べる。', 'その出身地の名物料理を調べる。', '名物料理の名前を回答として提示する。']}\n",
      "{'past_steps': [('ホンダの創業者の名前を確認する。', 'ホンダの創業者の名前は「本田宗一郎」です。')]}\n",
      "{'plan': ['ホンダの創業者の出身地を調べる。', 'その出身地の名物料理を調べる。', '名物料理の名前を回答として提示する。']}\n",
      "{'past_steps': [('ホンダの創業者の出身地を調べる。', 'ホンダの創業者である本田宗一郎の出身地は、静岡県磐田郡光明村（現：浜松市天竜区）です。')]}\n",
      "{'plan': ['その出身地の名物料理を調べる。', '名物料理の名前を回答として提示する。']}\n",
      "{'past_steps': [('その出身地の名物料理を調べる。', '出身地の名物料理について調べました。具体的な出身地を教えていただければ、その地域の名物料理をさらに詳しく調べることができます。')]}\n",
      "{'plan': ['本田宗一郎の出身地である浜松市天竜区の名物料理を具体的に調べる。', '調べた名物料理の名前を回答として提示する。']}\n",
      "{'past_steps': [('本田宗一郎の出身地である浜松市天竜区の名物料理を具体的に調べる。', '浜松市天竜区の名物料理としては、特に「浜松餃子」が有名です。また、地元の川魚を使った料理や、そば、カレーなども地域の特色ある料理として挙げられています。具体的な名物料理としては以下のようなものがあります。\\n\\n- 浜松餃子\\n- にじます定食（刺身、塩焼きなど）\\n- 天浜線転車台カレー（三ケ日牛カレー）\\n- 手打ちそば\\n- 緑茶入り生クリームどら焼き（春野名物）\\n\\nこれらが浜松市天竜区の名物料理の一例です。次のステップでこれらの中から回答として提示します。')]}\n",
      "{'response': 'ホンダの創業者本田宗一郎の出身地である浜松市天竜区の名物料理として、特に有名なのは「浜松餃子」です。その他にも、にじます定食、天浜線転車台カレー（三ケ日牛カレー）、手打ちそば、緑茶入り生クリームどら焼き（春野名物）などがありますが、代表的な名物料理は「浜松餃子」です。'}\n"
     ]
    }
   ],
   "source": [
    "config = {\"recursion_limit\": 20}\n",
    "inputs = {\"input\": \"自動車メーカーホンダの創業者の出身地の名物料理はなんですか?\"}\n",
    "# inputs = {\"input\": \"円周率 > 3.05を証明してください。\"}\n",
    "# inputs = {\"input\": \"富士山はどの県のものですか?必ず1つに絞って回答してください。\"}\n",
    "async for event in graph.astream(inputs, config=config):\n",
    "    for k, v in event.items():\n",
    "        if k != \"__end__\":\n",
    "            print(v)"
   ]
  },
  {
   "cell_type": "code",
   "execution_count": 22,
   "id": "7363e528",
   "metadata": {},
   "outputs": [
    {
     "data": {
      "image/png": "[encoded data removed]",
      "text/plain": [
       "<IPython.core.display.Image object>"
      ]
     },
     "execution_count": 22,
     "metadata": {},
     "output_type": "execute_result"
    }
   ],
   "source": [
    "from IPython.display import Image\n",
    "\n",
    "Image(graph.get_graph().draw_png())"
   ]
  }
 ],
 "metadata": {
  "kernelspec": {
   "display_name": "LangChainStudy",
   "language": "python",
   "name": "python3"
  },
  "language_info": {
   "codemirror_mode": {
    "name": "ipython",
    "version": 3
   },
   "file_extension": ".py",
   "mimetype": "text/x-python",
   "name": "python",
   "nbconvert_exporter": "python",
   "pygments_lexer": "ipython3",
   "version": "3.13.3"
  }
 },
 "nbformat": 4,
 "nbformat_minor": 5
}
